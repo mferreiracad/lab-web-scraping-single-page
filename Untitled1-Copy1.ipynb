{
 "cells": [
  {
   "cell_type": "code",
   "execution_count": 42,
   "id": "865d3d65",
   "metadata": {},
   "outputs": [],
   "source": [
    "from bs4 import BeautifulSoup\n",
    "import requests\n",
    "import pandas as pd"
   ]
  },
  {
   "cell_type": "code",
   "execution_count": 43,
   "id": "e610320f",
   "metadata": {},
   "outputs": [],
   "source": [
    "url = \"https://www.fbi.gov/wanted/topten\""
   ]
  },
  {
   "cell_type": "code",
   "execution_count": 44,
   "id": "92cc6c0b",
   "metadata": {},
   "outputs": [
    {
     "data": {
      "text/plain": [
       "200"
      ]
     },
     "execution_count": 44,
     "metadata": {},
     "output_type": "execute_result"
    }
   ],
   "source": [
    "response = requests.get(url)\n",
    "response.status_code"
   ]
  },
  {
   "cell_type": "code",
   "execution_count": 45,
   "id": "7a6d757f",
   "metadata": {},
   "outputs": [],
   "source": [
    "soup = BeautifulSoup(response.content, \"html.parser\")"
   ]
  },
  {
   "cell_type": "code",
   "execution_count": 75,
   "id": "408eaae3",
   "metadata": {},
   "outputs": [
    {
     "data": {
      "text/plain": [
       "[<a href=\"https://www.fbi.gov/wanted/topten/jason-derek-brown\">JASON DEREK BROWN</a>,\n",
       " <a href=\"https://www.fbi.gov/wanted/topten/ruja-ignatova\">RUJA IGNATOVA</a>,\n",
       " <a href=\"https://www.fbi.gov/wanted/topten/arnoldo-jimenez\">ARNOLDO JIMENEZ</a>,\n",
       " <a href=\"https://www.fbi.gov/wanted/topten/alexis-flores\">ALEXIS FLORES</a>,\n",
       " <a href=\"https://www.fbi.gov/wanted/topten/jose-rodolfo-villarreal-hernandez\">JOSE RODOLFO VILLARREAL-HERNANDEZ</a>,\n",
       " <a href=\"https://www.fbi.gov/wanted/topten/yulan-adonay-archaga-carias\">YULAN ADONAY ARCHAGA CARIAS</a>,\n",
       " <a href=\"https://www.fbi.gov/wanted/topten/rafael-caro-quintero\">RAFAEL CARO-QUINTERO</a>,\n",
       " <a href=\"https://www.fbi.gov/wanted/topten/eugene-palmer\">EUGENE PALMER</a>,\n",
       " <a href=\"https://www.fbi.gov/wanted/topten/bhadreshkumar-chetanbhai-patel\">BHADRESHKUMAR CHETANBHAI PATEL</a>,\n",
       " <a href=\"https://www.fbi.gov/wanted/topten/alejandro-castillo\">ALEJANDRO ROSALES CASTILLO</a>]"
      ]
     },
     "execution_count": 75,
     "metadata": {},
     "output_type": "execute_result"
    }
   ],
   "source": [
    "a = soup.select('#query-results-0f737222c5054a81a120bce207b0446a > ul > li > h3 >a')\n",
    "a"
   ]
  },
  {
   "cell_type": "code",
   "execution_count": 76,
   "id": "14e7a2b2",
   "metadata": {},
   "outputs": [
    {
     "name": "stdout",
     "output_type": "stream",
     "text": [
      "['JASON DEREK BROWN', 'RUJA IGNATOVA', 'ARNOLDO JIMENEZ', 'ALEXIS FLORES', 'JOSE RODOLFO VILLARREAL-HERNANDEZ', 'YULAN ADONAY ARCHAGA CARIAS', 'RAFAEL CARO-QUINTERO', 'EUGENE PALMER', 'BHADRESHKUMAR CHETANBHAI PATEL', 'ALEJANDRO ROSALES CASTILLO']\n"
     ]
    }
   ],
   "source": [
    "most_wanted = []\n",
    "\n",
    "num_iter = len(a)\n",
    "#query-results-0f737222c5054a81a120bce207b0446a > ul > li:nth-child(1) > h3 > a\n",
    "name = a\n",
    "\n",
    "for i in range(num_iter):\n",
    "     most_wanted.append(name[i].get_text())\n",
    "\n",
    "print(most_wanted)"
   ]
  },
  {
   "cell_type": "code",
   "execution_count": 77,
   "id": "364501b4",
   "metadata": {},
   "outputs": [],
   "source": [
    "most_wanted = pd.DataFrame({\"Name\":most_wanted})"
   ]
  },
  {
   "cell_type": "code",
   "execution_count": 78,
   "id": "1b948407",
   "metadata": {},
   "outputs": [
    {
     "data": {
      "text/html": [
       "<div>\n",
       "<style scoped>\n",
       "    .dataframe tbody tr th:only-of-type {\n",
       "        vertical-align: middle;\n",
       "    }\n",
       "\n",
       "    .dataframe tbody tr th {\n",
       "        vertical-align: top;\n",
       "    }\n",
       "\n",
       "    .dataframe thead th {\n",
       "        text-align: right;\n",
       "    }\n",
       "</style>\n",
       "<table border=\"1\" class=\"dataframe\">\n",
       "  <thead>\n",
       "    <tr style=\"text-align: right;\">\n",
       "      <th></th>\n",
       "      <th>Name</th>\n",
       "    </tr>\n",
       "  </thead>\n",
       "  <tbody>\n",
       "    <tr>\n",
       "      <th>0</th>\n",
       "      <td>JASON DEREK BROWN</td>\n",
       "    </tr>\n",
       "    <tr>\n",
       "      <th>1</th>\n",
       "      <td>RUJA IGNATOVA</td>\n",
       "    </tr>\n",
       "    <tr>\n",
       "      <th>2</th>\n",
       "      <td>ARNOLDO JIMENEZ</td>\n",
       "    </tr>\n",
       "    <tr>\n",
       "      <th>3</th>\n",
       "      <td>ALEXIS FLORES</td>\n",
       "    </tr>\n",
       "    <tr>\n",
       "      <th>4</th>\n",
       "      <td>JOSE RODOLFO VILLARREAL-HERNANDEZ</td>\n",
       "    </tr>\n",
       "    <tr>\n",
       "      <th>5</th>\n",
       "      <td>YULAN ADONAY ARCHAGA CARIAS</td>\n",
       "    </tr>\n",
       "    <tr>\n",
       "      <th>6</th>\n",
       "      <td>RAFAEL CARO-QUINTERO</td>\n",
       "    </tr>\n",
       "    <tr>\n",
       "      <th>7</th>\n",
       "      <td>EUGENE PALMER</td>\n",
       "    </tr>\n",
       "    <tr>\n",
       "      <th>8</th>\n",
       "      <td>BHADRESHKUMAR CHETANBHAI PATEL</td>\n",
       "    </tr>\n",
       "    <tr>\n",
       "      <th>9</th>\n",
       "      <td>ALEJANDRO ROSALES CASTILLO</td>\n",
       "    </tr>\n",
       "  </tbody>\n",
       "</table>\n",
       "</div>"
      ],
      "text/plain": [
       "                                Name\n",
       "0                  JASON DEREK BROWN\n",
       "1                      RUJA IGNATOVA\n",
       "2                    ARNOLDO JIMENEZ\n",
       "3                      ALEXIS FLORES\n",
       "4  JOSE RODOLFO VILLARREAL-HERNANDEZ\n",
       "5        YULAN ADONAY ARCHAGA CARIAS\n",
       "6               RAFAEL CARO-QUINTERO\n",
       "7                      EUGENE PALMER\n",
       "8     BHADRESHKUMAR CHETANBHAI PATEL\n",
       "9         ALEJANDRO ROSALES CASTILLO"
      ]
     },
     "execution_count": 78,
     "metadata": {},
     "output_type": "execute_result"
    }
   ],
   "source": [
    "most_wanted"
   ]
  },
  {
   "cell_type": "code",
   "execution_count": null,
   "id": "d8760fe6",
   "metadata": {},
   "outputs": [],
   "source": [
    "# Display the 20 latest earthquakes info (date, time, latitude, longitude and region name"
   ]
  },
  {
   "cell_type": "code",
   "execution_count": 125,
   "id": "eb831b93",
   "metadata": {},
   "outputs": [],
   "source": [
    "url = 'https://www.emsc-csem.org/Earthquake/'"
   ]
  },
  {
   "cell_type": "code",
   "execution_count": 126,
   "id": "73237fd0",
   "metadata": {},
   "outputs": [
    {
     "data": {
      "text/plain": [
       "200"
      ]
     },
     "execution_count": 126,
     "metadata": {},
     "output_type": "execute_result"
    }
   ],
   "source": [
    "response = requests.get(url)\n",
    "response.status_code"
   ]
  },
  {
   "cell_type": "code",
   "execution_count": 127,
   "id": "83a1f5d9",
   "metadata": {},
   "outputs": [],
   "source": [
    "soup = BeautifulSoup(response.content, \"html.parser\")"
   ]
  },
  {
   "cell_type": "code",
   "execution_count": 136,
   "id": "fcd2b5ed",
   "metadata": {},
   "outputs": [
    {
     "data": {
      "text/plain": [
       "[<td class=\"tabev1\">33.98 </td>,\n",
       " <td class=\"tabev1\">116.69 </td>,\n",
       " <td class=\"tabev1\">22.82 </td>,\n",
       " <td class=\"tabev1\">68.15 </td>,\n",
       " <td class=\"tabev1\">38.91 </td>,\n",
       " <td class=\"tabev1\">38.40 </td>,\n",
       " <td class=\"tabev1\">3.90 </td>,\n",
       " <td class=\"tabev1\">128.72 </td>,\n",
       " <td class=\"tabev1\">37.22 </td>,\n",
       " <td class=\"tabev1\">39.13 </td>,\n",
       " <td class=\"tabev1\">47.57 </td>,\n",
       " <td class=\"tabev1\">8.46 </td>,\n",
       " <td class=\"tabev1\">16.26 </td>,\n",
       " <td class=\"tabev1\">98.30 </td>,\n",
       " <td class=\"tabev1\">38.85 </td>,\n",
       " <td class=\"tabev1\">43.53 </td>,\n",
       " <td class=\"tabev1\">11.23 </td>,\n",
       " <td class=\"tabev1\">84.24 </td>,\n",
       " <td class=\"tabev1\">35.42 </td>,\n",
       " <td class=\"tabev1\">3.60 </td>,\n",
       " <td class=\"tabev1\">42.27 </td>,\n",
       " <td class=\"tabev1\">8.28 </td>,\n",
       " <td class=\"tabev1\">18.87 </td>,\n",
       " <td class=\"tabev1\">155.27 </td>,\n",
       " <td class=\"tabev1\">17.95 </td>,\n",
       " <td class=\"tabev1\">66.94 </td>,\n",
       " <td class=\"tabev1\">18.61 </td>,\n",
       " <td class=\"tabev1\">155.20 </td>,\n",
       " <td class=\"tabev1\">4.42 </td>,\n",
       " <td class=\"tabev1\">96.59 </td>,\n",
       " <td class=\"tabev1\">8.04 </td>,\n",
       " <td class=\"tabev1\">126.72 </td>,\n",
       " <td class=\"tabev1\">36.57 </td>,\n",
       " <td class=\"tabev1\">7.48 </td>,\n",
       " <td class=\"tabev1\">15.96 </td>,\n",
       " <td class=\"tabev1\">97.91 </td>,\n",
       " <td class=\"tabev1\">35.49 </td>,\n",
       " <td class=\"tabev1\">3.60 </td>,\n",
       " <td class=\"tabev1\">19.17 </td>,\n",
       " <td class=\"tabev1\">155.51 </td>,\n",
       " <td class=\"tabev1\">43.03 </td>,\n",
       " <td class=\"tabev1\">0.65 </td>,\n",
       " <td class=\"tabev1\">20.80 </td>,\n",
       " <td class=\"tabev1\">69.10 </td>,\n",
       " <td class=\"tabev1\">11.36 </td>,\n",
       " <td class=\"tabev1\">86.93 </td>,\n",
       " <td class=\"tabev1\">17.96 </td>,\n",
       " <td class=\"tabev1\">66.84 </td>,\n",
       " <td class=\"tabev1\">20.75 </td>,\n",
       " <td class=\"tabev1\">69.01 </td>,\n",
       " <td class=\"tabev1\">37.28 </td>,\n",
       " <td class=\"tabev1\">1.84 </td>,\n",
       " <td class=\"tabev1\">17.95 </td>,\n",
       " <td class=\"tabev1\">66.66 </td>,\n",
       " <td class=\"tabev1\">33.71 </td>,\n",
       " <td class=\"tabev1\">70.67 </td>,\n",
       " <td class=\"tabev1\">33.91 </td>,\n",
       " <td class=\"tabev1\">71.95 </td>,\n",
       " <td class=\"tabev1\">18.80 </td>,\n",
       " <td class=\"tabev1\">146.58 </td>,\n",
       " <td class=\"tabev1\">36.12 </td>,\n",
       " <td class=\"tabev1\">97.84 </td>,\n",
       " <td class=\"tabev1\">19.20 </td>,\n",
       " <td class=\"tabev1\">155.47 </td>,\n",
       " <td class=\"tabev1\">35.40 </td>,\n",
       " <td class=\"tabev1\">3.64 </td>,\n",
       " <td class=\"tabev1\">36.10 </td>,\n",
       " <td class=\"tabev1\">0.88 </td>,\n",
       " <td class=\"tabev1\">35.46 </td>,\n",
       " <td class=\"tabev1\">3.66 </td>,\n",
       " <td class=\"tabev1\">31.68 </td>,\n",
       " <td class=\"tabev1\">104.42 </td>,\n",
       " <td class=\"tabev1\">38.85 </td>,\n",
       " <td class=\"tabev1\">43.48 </td>,\n",
       " <td class=\"tabev1\">23.25 </td>,\n",
       " <td class=\"tabev1\">121.36 </td>,\n",
       " <td class=\"tabev1\">30.84 </td>,\n",
       " <td class=\"tabev1\">71.44 </td>,\n",
       " <td class=\"tabev1\">31.53 </td>,\n",
       " <td class=\"tabev1\">77.01 </td>,\n",
       " <td class=\"tabev1\">37.42 </td>,\n",
       " <td class=\"tabev1\">37.22 </td>,\n",
       " <td class=\"tabev1\">36.54 </td>,\n",
       " <td class=\"tabev1\">7.57 </td>,\n",
       " <td class=\"tabev1\">35.49 </td>,\n",
       " <td class=\"tabev1\">3.66 </td>,\n",
       " <td class=\"tabev1\">35.52 </td>,\n",
       " <td class=\"tabev1\">3.50 </td>,\n",
       " <td class=\"tabev1\">35.19 </td>,\n",
       " <td class=\"tabev1\">25.32 </td>,\n",
       " <td class=\"tabev1\">21.83 </td>,\n",
       " <td class=\"tabev1\">69.95 </td>,\n",
       " <td class=\"tabev1\">34.84 </td>,\n",
       " <td class=\"tabev1\">72.89 </td>,\n",
       " <td class=\"tabev1\">46.31 </td>,\n",
       " <td class=\"tabev1\">7.50 </td>,\n",
       " <td class=\"tabev1\">33.27 </td>,\n",
       " <td class=\"tabev1\">115.98 </td>,\n",
       " <td class=\"tabev1\">23.72 </td>,\n",
       " <td class=\"tabev1\">66.53 </td>]"
      ]
     },
     "execution_count": 136,
     "metadata": {},
     "output_type": "execute_result"
    }
   ],
   "source": [
    "z = soup.select('tbody tr td.tabev1')\n",
    "z"
   ]
  },
  {
   "cell_type": "code",
   "execution_count": 143,
   "id": "39deea71",
   "metadata": {},
   "outputs": [
    {
     "name": "stdout",
     "output_type": "stream",
     "text": [
      "['earthquake2022-07-19\\xa0\\xa0\\xa006:59:07.6', 'earthquake2022-07-19\\xa0\\xa0\\xa006:58:10.0', 'earthquake2022-07-19\\xa0\\xa0\\xa006:52:20.2', 'earthquake2022-07-19\\xa0\\xa0\\xa006:46:38.0', 'earthquake2022-07-19\\xa0\\xa0\\xa006:41:54.9', 'earthquake2022-07-19\\xa0\\xa0\\xa006:26:22.1', 'earthquake2022-07-19\\xa0\\xa0\\xa006:24:32.0', 'earthquake2022-07-19\\xa0\\xa0\\xa005:56:48.9', 'earthquake2022-07-19\\xa0\\xa0\\xa005:51:44.0', 'earthquake2022-07-19\\xa0\\xa0\\xa005:49:57.5']\n",
      "[<td class=\"tabev1\">33.98 </td>, <td class=\"tabev1\">116.69 </td>, <td class=\"tabev1\">22.82 </td>, <td class=\"tabev1\">68.15 </td>, <td class=\"tabev1\">38.91 </td>, <td class=\"tabev1\">38.40 </td>, <td class=\"tabev1\">3.90 </td>, <td class=\"tabev1\">128.72 </td>, <td class=\"tabev1\">37.22 </td>, <td class=\"tabev1\">39.13 </td>, <td class=\"tabev1\">47.57 </td>, <td class=\"tabev1\">8.46 </td>, <td class=\"tabev1\">16.26 </td>, <td class=\"tabev1\">98.30 </td>, <td class=\"tabev1\">38.85 </td>, <td class=\"tabev1\">43.53 </td>, <td class=\"tabev1\">11.23 </td>, <td class=\"tabev1\">84.24 </td>, <td class=\"tabev1\">35.42 </td>, <td class=\"tabev1\">3.60 </td>, <td class=\"tabev1\">42.27 </td>, <td class=\"tabev1\">8.28 </td>, <td class=\"tabev1\">18.87 </td>, <td class=\"tabev1\">155.27 </td>, <td class=\"tabev1\">17.95 </td>, <td class=\"tabev1\">66.94 </td>, <td class=\"tabev1\">18.61 </td>, <td class=\"tabev1\">155.20 </td>, <td class=\"tabev1\">4.42 </td>, <td class=\"tabev1\">96.59 </td>, <td class=\"tabev1\">8.04 </td>, <td class=\"tabev1\">126.72 </td>, <td class=\"tabev1\">36.57 </td>, <td class=\"tabev1\">7.48 </td>, <td class=\"tabev1\">15.96 </td>, <td class=\"tabev1\">97.91 </td>, <td class=\"tabev1\">35.49 </td>, <td class=\"tabev1\">3.60 </td>, <td class=\"tabev1\">19.17 </td>, <td class=\"tabev1\">155.51 </td>, <td class=\"tabev1\">43.03 </td>, <td class=\"tabev1\">0.65 </td>, <td class=\"tabev1\">20.80 </td>, <td class=\"tabev1\">69.10 </td>, <td class=\"tabev1\">11.36 </td>, <td class=\"tabev1\">86.93 </td>, <td class=\"tabev1\">17.96 </td>, <td class=\"tabev1\">66.84 </td>, <td class=\"tabev1\">20.75 </td>, <td class=\"tabev1\">69.01 </td>, <td class=\"tabev1\">37.28 </td>, <td class=\"tabev1\">1.84 </td>, <td class=\"tabev1\">17.95 </td>, <td class=\"tabev1\">66.66 </td>, <td class=\"tabev1\">33.71 </td>, <td class=\"tabev1\">70.67 </td>, <td class=\"tabev1\">33.91 </td>, <td class=\"tabev1\">71.95 </td>, <td class=\"tabev1\">18.80 </td>, <td class=\"tabev1\">146.58 </td>, <td class=\"tabev1\">36.12 </td>, <td class=\"tabev1\">97.84 </td>, <td class=\"tabev1\">19.20 </td>, <td class=\"tabev1\">155.47 </td>, <td class=\"tabev1\">35.40 </td>, <td class=\"tabev1\">3.64 </td>, <td class=\"tabev1\">36.10 </td>, <td class=\"tabev1\">0.88 </td>, <td class=\"tabev1\">35.46 </td>, <td class=\"tabev1\">3.66 </td>, <td class=\"tabev1\">31.68 </td>, <td class=\"tabev1\">104.42 </td>, <td class=\"tabev1\">38.85 </td>, <td class=\"tabev1\">43.48 </td>, <td class=\"tabev1\">23.25 </td>, <td class=\"tabev1\">121.36 </td>, <td class=\"tabev1\">30.84 </td>, <td class=\"tabev1\">71.44 </td>, <td class=\"tabev1\">31.53 </td>, <td class=\"tabev1\">77.01 </td>, <td class=\"tabev1\">37.42 </td>, <td class=\"tabev1\">37.22 </td>, <td class=\"tabev1\">36.54 </td>, <td class=\"tabev1\">7.57 </td>, <td class=\"tabev1\">35.49 </td>, <td class=\"tabev1\">3.66 </td>, <td class=\"tabev1\">35.52 </td>, <td class=\"tabev1\">3.50 </td>, <td class=\"tabev1\">35.19 </td>, <td class=\"tabev1\">25.32 </td>, <td class=\"tabev1\">21.83 </td>, <td class=\"tabev1\">69.95 </td>, <td class=\"tabev1\">34.84 </td>, <td class=\"tabev1\">72.89 </td>, <td class=\"tabev1\">46.31 </td>, <td class=\"tabev1\">7.50 </td>, <td class=\"tabev1\">33.27 </td>, <td class=\"tabev1\">115.98 </td>, <td class=\"tabev1\">23.72 </td>, <td class=\"tabev1\">66.53 </td>]\n",
      "['S\\xa0\\xa0', 'S\\xa0\\xa0', 'S\\xa0\\xa0', 'S\\xa0\\xa0', 'S\\xa0\\xa0']\n"
     ]
    }
   ],
   "source": [
    "time = []\n",
    "latitude = []\n",
    "deg_la = []\n",
    "longitude = []\n",
    "deg_lo = []\n",
    "region = []\n",
    "magnitude = []\n",
    "\n",
    "num_iter = 10\n",
    "\n",
    "\n",
    "name = soup.select('tbody tr td.tabev6 b')\n",
    "lat= soup.select('tbody tr td.tabev1')\n",
    "#lon = \n",
    "d_lag = soup.select('tbody tr td.tabev2')\n",
    "#d_lon =\n",
    "#reg = \n",
    "#mag = \n",
    "\n",
    "for i in range(num_iter):\n",
    "    time.append(name[i].get_text())\n",
    "for x in range(num_iter):\n",
    "    if x%2 == 0:\n",
    "        latitude.append(lat[i].get_text())\n",
    "        deg_la.append(d_lag[i].get_text())\n",
    "        \n",
    "print(time)\n",
    "print(lat)\n",
    "print(deg_la)"
   ]
  },
  {
   "cell_type": "code",
   "execution_count": null,
   "id": "0b564c2b",
   "metadata": {},
   "outputs": [],
   "source": []
  },
  {
   "cell_type": "code",
   "execution_count": null,
   "id": "361072cb",
   "metadata": {},
   "outputs": [],
   "source": []
  },
  {
   "cell_type": "code",
   "execution_count": null,
   "id": "66202ee5",
   "metadata": {},
   "outputs": [],
   "source": []
  },
  {
   "cell_type": "code",
   "execution_count": null,
   "id": "0753763e",
   "metadata": {},
   "outputs": [],
   "source": []
  },
  {
   "cell_type": "code",
   "execution_count": null,
   "id": "cdfe3b9c",
   "metadata": {},
   "outputs": [],
   "source": []
  },
  {
   "cell_type": "code",
   "execution_count": null,
   "id": "a202bd2b",
   "metadata": {},
   "outputs": [],
   "source": []
  },
  {
   "cell_type": "code",
   "execution_count": null,
   "id": "058d4f2c",
   "metadata": {},
   "outputs": [],
   "source": []
  },
  {
   "cell_type": "code",
   "execution_count": null,
   "id": "d13b807d",
   "metadata": {},
   "outputs": [],
   "source": []
  },
  {
   "cell_type": "code",
   "execution_count": null,
   "id": "7646d33b",
   "metadata": {},
   "outputs": [],
   "source": []
  },
  {
   "cell_type": "code",
   "execution_count": 2,
   "id": "8531fe96",
   "metadata": {},
   "outputs": [
    {
     "name": "stdout",
     "output_type": "stream",
     "text": [
      "On branch master\n",
      "Your branch is up to date with 'origin/master'.\n",
      "\n",
      "Changes to be committed:\n",
      "  (use \"git restore --staged <file>...\" to unstage)\n",
      "\t\u001b[32mnew file:   Untitled1.ipynb\u001b[m\n",
      "\n",
      "[master 9206127] done\n",
      " 1 file changed, 418 insertions(+)\n",
      " create mode 100644 Untitled1.ipynb\n",
      "Enumerating objects: 4, done.\n",
      "Counting objects: 100% (4/4), done.\n",
      "Delta compression using up to 8 threads\n",
      "Compressing objects: 100% (3/3), done.\n",
      "Writing objects: 100% (3/3), 4.08 KiB | 4.08 MiB/s, done.\n",
      "Total 3 (delta 0), reused 0 (delta 0), pack-reused 0\n",
      "To https://github.com/mferreiracad/lab-web-scraping-single-page\n",
      "   fb2b534..9206127  master -> master\n"
     ]
    }
   ],
   "source": [
    "!git add .\n",
    "!git status\n",
    "!git commit -m 'done'\n",
    "!git push"
   ]
  },
  {
   "cell_type": "code",
   "execution_count": null,
   "id": "40e47993",
   "metadata": {},
   "outputs": [],
   "source": []
  }
 ],
 "metadata": {
  "kernelspec": {
   "display_name": "Python 3 (ipykernel)",
   "language": "python",
   "name": "python3"
  },
  "language_info": {
   "codemirror_mode": {
    "name": "ipython",
    "version": 3
   },
   "file_extension": ".py",
   "mimetype": "text/x-python",
   "name": "python",
   "nbconvert_exporter": "python",
   "pygments_lexer": "ipython3",
   "version": "3.9.12"
  },
  "toc": {
   "base_numbering": 1,
   "nav_menu": {},
   "number_sections": true,
   "sideBar": true,
   "skip_h1_title": false,
   "title_cell": "Table of Contents",
   "title_sidebar": "Contents",
   "toc_cell": false,
   "toc_position": {},
   "toc_section_display": true,
   "toc_window_display": false
  }
 },
 "nbformat": 4,
 "nbformat_minor": 5
}
