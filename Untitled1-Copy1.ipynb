{
 "cells": [
  {
   "cell_type": "code",
   "execution_count": 1,
   "id": "865d3d65",
   "metadata": {},
   "outputs": [],
   "source": [
    "from bs4 import BeautifulSoup\n",
    "import requests\n",
    "import pandas as pd"
   ]
  },
  {
   "cell_type": "code",
   "execution_count": 2,
   "id": "e610320f",
   "metadata": {},
   "outputs": [],
   "source": [
    "url = \"https://www.fbi.gov/wanted/topten\""
   ]
  },
  {
   "cell_type": "code",
   "execution_count": 3,
   "id": "92cc6c0b",
   "metadata": {},
   "outputs": [
    {
     "data": {
      "text/plain": [
       "200"
      ]
     },
     "execution_count": 3,
     "metadata": {},
     "output_type": "execute_result"
    }
   ],
   "source": [
    "response = requests.get(url)\n",
    "response.status_code"
   ]
  },
  {
   "cell_type": "code",
   "execution_count": 4,
   "id": "7a6d757f",
   "metadata": {},
   "outputs": [],
   "source": [
    "soup = BeautifulSoup(response.content, \"html.parser\")"
   ]
  },
  {
   "cell_type": "code",
   "execution_count": 5,
   "id": "408eaae3",
   "metadata": {},
   "outputs": [
    {
     "data": {
      "text/plain": [
       "[<a href=\"https://www.fbi.gov/wanted/topten/jason-derek-brown\">JASON DEREK BROWN</a>,\n",
       " <a href=\"https://www.fbi.gov/wanted/topten/ruja-ignatova\">RUJA IGNATOVA</a>,\n",
       " <a href=\"https://www.fbi.gov/wanted/topten/arnoldo-jimenez\">ARNOLDO JIMENEZ</a>,\n",
       " <a href=\"https://www.fbi.gov/wanted/topten/alexis-flores\">ALEXIS FLORES</a>,\n",
       " <a href=\"https://www.fbi.gov/wanted/topten/jose-rodolfo-villarreal-hernandez\">JOSE RODOLFO VILLARREAL-HERNANDEZ</a>,\n",
       " <a href=\"https://www.fbi.gov/wanted/topten/yulan-adonay-archaga-carias\">YULAN ADONAY ARCHAGA CARIAS</a>,\n",
       " <a href=\"https://www.fbi.gov/wanted/topten/rafael-caro-quintero\">RAFAEL CARO-QUINTERO</a>,\n",
       " <a href=\"https://www.fbi.gov/wanted/topten/eugene-palmer\">EUGENE PALMER</a>,\n",
       " <a href=\"https://www.fbi.gov/wanted/topten/bhadreshkumar-chetanbhai-patel\">BHADRESHKUMAR CHETANBHAI PATEL</a>,\n",
       " <a href=\"https://www.fbi.gov/wanted/topten/alejandro-castillo\">ALEJANDRO ROSALES CASTILLO</a>]"
      ]
     },
     "execution_count": 5,
     "metadata": {},
     "output_type": "execute_result"
    }
   ],
   "source": [
    "a = soup.select('#query-results-0f737222c5054a81a120bce207b0446a > ul > li > h3 >a')\n",
    "a"
   ]
  },
  {
   "cell_type": "code",
   "execution_count": 6,
   "id": "14e7a2b2",
   "metadata": {},
   "outputs": [
    {
     "name": "stdout",
     "output_type": "stream",
     "text": [
      "['JASON DEREK BROWN', 'RUJA IGNATOVA', 'ARNOLDO JIMENEZ', 'ALEXIS FLORES', 'JOSE RODOLFO VILLARREAL-HERNANDEZ', 'YULAN ADONAY ARCHAGA CARIAS', 'RAFAEL CARO-QUINTERO', 'EUGENE PALMER', 'BHADRESHKUMAR CHETANBHAI PATEL', 'ALEJANDRO ROSALES CASTILLO']\n"
     ]
    }
   ],
   "source": [
    "most_wanted = []\n",
    "\n",
    "num_iter = len(a)\n",
    "#query-results-0f737222c5054a81a120bce207b0446a > ul > li:nth-child(1) > h3 > a\n",
    "name = a\n",
    "\n",
    "for i in range(num_iter):\n",
    "     most_wanted.append(name[i].get_text())\n",
    "\n",
    "print(most_wanted)"
   ]
  },
  {
   "cell_type": "code",
   "execution_count": 7,
   "id": "364501b4",
   "metadata": {},
   "outputs": [],
   "source": [
    "most_wanted = pd.DataFrame({\"Name\":most_wanted})"
   ]
  },
  {
   "cell_type": "code",
   "execution_count": 8,
   "id": "1b948407",
   "metadata": {},
   "outputs": [
    {
     "data": {
      "text/html": [
       "<div>\n",
       "<style scoped>\n",
       "    .dataframe tbody tr th:only-of-type {\n",
       "        vertical-align: middle;\n",
       "    }\n",
       "\n",
       "    .dataframe tbody tr th {\n",
       "        vertical-align: top;\n",
       "    }\n",
       "\n",
       "    .dataframe thead th {\n",
       "        text-align: right;\n",
       "    }\n",
       "</style>\n",
       "<table border=\"1\" class=\"dataframe\">\n",
       "  <thead>\n",
       "    <tr style=\"text-align: right;\">\n",
       "      <th></th>\n",
       "      <th>Name</th>\n",
       "    </tr>\n",
       "  </thead>\n",
       "  <tbody>\n",
       "    <tr>\n",
       "      <th>0</th>\n",
       "      <td>JASON DEREK BROWN</td>\n",
       "    </tr>\n",
       "    <tr>\n",
       "      <th>1</th>\n",
       "      <td>RUJA IGNATOVA</td>\n",
       "    </tr>\n",
       "    <tr>\n",
       "      <th>2</th>\n",
       "      <td>ARNOLDO JIMENEZ</td>\n",
       "    </tr>\n",
       "    <tr>\n",
       "      <th>3</th>\n",
       "      <td>ALEXIS FLORES</td>\n",
       "    </tr>\n",
       "    <tr>\n",
       "      <th>4</th>\n",
       "      <td>JOSE RODOLFO VILLARREAL-HERNANDEZ</td>\n",
       "    </tr>\n",
       "    <tr>\n",
       "      <th>5</th>\n",
       "      <td>YULAN ADONAY ARCHAGA CARIAS</td>\n",
       "    </tr>\n",
       "    <tr>\n",
       "      <th>6</th>\n",
       "      <td>RAFAEL CARO-QUINTERO</td>\n",
       "    </tr>\n",
       "    <tr>\n",
       "      <th>7</th>\n",
       "      <td>EUGENE PALMER</td>\n",
       "    </tr>\n",
       "    <tr>\n",
       "      <th>8</th>\n",
       "      <td>BHADRESHKUMAR CHETANBHAI PATEL</td>\n",
       "    </tr>\n",
       "    <tr>\n",
       "      <th>9</th>\n",
       "      <td>ALEJANDRO ROSALES CASTILLO</td>\n",
       "    </tr>\n",
       "  </tbody>\n",
       "</table>\n",
       "</div>"
      ],
      "text/plain": [
       "                                Name\n",
       "0                  JASON DEREK BROWN\n",
       "1                      RUJA IGNATOVA\n",
       "2                    ARNOLDO JIMENEZ\n",
       "3                      ALEXIS FLORES\n",
       "4  JOSE RODOLFO VILLARREAL-HERNANDEZ\n",
       "5        YULAN ADONAY ARCHAGA CARIAS\n",
       "6               RAFAEL CARO-QUINTERO\n",
       "7                      EUGENE PALMER\n",
       "8     BHADRESHKUMAR CHETANBHAI PATEL\n",
       "9         ALEJANDRO ROSALES CASTILLO"
      ]
     },
     "execution_count": 8,
     "metadata": {},
     "output_type": "execute_result"
    }
   ],
   "source": [
    "most_wanted"
   ]
  },
  {
   "cell_type": "code",
   "execution_count": 9,
   "id": "c19114f8",
   "metadata": {},
   "outputs": [],
   "source": [
    "# Display the 20 latest earthquakes info (date, time, latitude, longitude and region name"
   ]
  },
  {
   "cell_type": "code",
   "execution_count": 10,
   "id": "eb831b93",
   "metadata": {},
   "outputs": [],
   "source": [
    "url = 'https://www.emsc-csem.org/Earthquake/'"
   ]
  },
  {
   "cell_type": "code",
   "execution_count": 11,
   "id": "77e92caa",
   "metadata": {},
   "outputs": [
    {
     "data": {
      "text/plain": [
       "200"
      ]
     },
     "execution_count": 11,
     "metadata": {},
     "output_type": "execute_result"
    }
   ],
   "source": [
    "response = requests.get(url)\n",
    "response.status_code"
   ]
  },
  {
   "cell_type": "code",
   "execution_count": 12,
   "id": "cb6fa6a1",
   "metadata": {},
   "outputs": [],
   "source": [
    "soup = BeautifulSoup(response.content, \"html.parser\")"
   ]
  },
  {
   "cell_type": "code",
   "execution_count": 13,
   "id": "cc46da9b",
   "metadata": {},
   "outputs": [],
   "source": [
    "time = []\n",
    "latitude = []\n",
    "lat_l = []\n",
    "longitude = [] \n",
    "lon_l = []\n",
    "region = []\n",
    "magnitude =[]\n",
    "num_iter = 10\n",
    "\n",
    "date = soup.select('tbody tr td.tabev6 b')\n",
    "lat = soup.select('tbody tr td:nth-child(5)')\n",
    "lon = soup.select('tbody tr td:nth-child(7)')\n",
    "lt_l = soup.select('tbody tr td:nth-child(6)')\n",
    "ln_l = soup.select('tbody tr td:nth-child(8)')\n",
    "reg = soup.select('tbody tr td.tb_region')\n",
    "mag = soup.select('tbody tr td:nth-child(11)')\n",
    "for i in range(num_iter):\n",
    "    time.append(date[i].get_text())\n",
    "    latitude.append(lat[i].get_text())\n",
    "    longitude.append(lon[i].get_text())\n",
    "    lat_l.append(lt_l[i].get_text())\n",
    "    lon_l.append(ln_l[i].get_text())\n",
    "    region.append(reg[i].get_text())\n",
    "    magnitude.append(mag[i].get_text())"
   ]
  },
  {
   "cell_type": "code",
   "execution_count": 14,
   "id": "b8e38ccb",
   "metadata": {},
   "outputs": [
    {
     "data": {
      "text/plain": [
       "['earthquake2022-07-19\\xa0\\xa0\\xa015:35:37.6',\n",
       " 'earthquake2022-07-19\\xa0\\xa0\\xa015:27:11.4',\n",
       " 'earthquake2022-07-19\\xa0\\xa0\\xa015:24:47.8',\n",
       " 'earthquake2022-07-19\\xa0\\xa0\\xa015:20:44.0',\n",
       " 'earthquake2022-07-19\\xa0\\xa0\\xa015:09:08.5',\n",
       " 'earthquake2022-07-19\\xa0\\xa0\\xa014:45:10.1',\n",
       " 'earthquake2022-07-19\\xa0\\xa0\\xa014:43:08.0',\n",
       " 'earthquake2022-07-19\\xa0\\xa0\\xa014:34:12.0',\n",
       " 'earthquake2022-07-19\\xa0\\xa0\\xa014:32:26.3',\n",
       " 'earthquake2022-07-19\\xa0\\xa0\\xa014:26:34.0']"
      ]
     },
     "execution_count": 14,
     "metadata": {},
     "output_type": "execute_result"
    }
   ],
   "source": [
    "time"
   ]
  },
  {
   "cell_type": "code",
   "execution_count": 16,
   "id": "9424e748",
   "metadata": {},
   "outputs": [
    {
     "data": {
      "text/plain": [
       "['15:35',\n",
       " '15:27',\n",
       " '15:24',\n",
       " '15:20',\n",
       " '15:09',\n",
       " '14:45',\n",
       " '14:43',\n",
       " '14:34',\n",
       " '14:32',\n",
       " '14:26']"
      ]
     },
     "execution_count": 16,
     "metadata": {},
     "output_type": "execute_result"
    }
   ],
   "source": [
    "date_ = []\n",
    "hour_ = []\n",
    "for x in time:\n",
    "    hour = x[-10:-5]\n",
    "    date = x[10:20]\n",
    "    hour_.append(hour)\n",
    "    date_.append(date)\n",
    "hour_\n"
   ]
  },
  {
   "cell_type": "code",
   "execution_count": 17,
   "id": "a0f36835",
   "metadata": {},
   "outputs": [
    {
     "data": {
      "text/html": [
       "<div>\n",
       "<style scoped>\n",
       "    .dataframe tbody tr th:only-of-type {\n",
       "        vertical-align: middle;\n",
       "    }\n",
       "\n",
       "    .dataframe tbody tr th {\n",
       "        vertical-align: top;\n",
       "    }\n",
       "\n",
       "    .dataframe thead th {\n",
       "        text-align: right;\n",
       "    }\n",
       "</style>\n",
       "<table border=\"1\" class=\"dataframe\">\n",
       "  <thead>\n",
       "    <tr style=\"text-align: right;\">\n",
       "      <th></th>\n",
       "      <th>Date</th>\n",
       "      <th>Hour</th>\n",
       "      <th>Latitude</th>\n",
       "      <th>Lat</th>\n",
       "      <th>Longitude</th>\n",
       "      <th>Long</th>\n",
       "      <th>Region</th>\n",
       "      <th>Magnitude</th>\n",
       "    </tr>\n",
       "  </thead>\n",
       "  <tbody>\n",
       "    <tr>\n",
       "      <th>0</th>\n",
       "      <td>2022-07-19</td>\n",
       "      <td>15:35</td>\n",
       "      <td>57.71</td>\n",
       "      <td>N</td>\n",
       "      <td>153.97</td>\n",
       "      <td>W</td>\n",
       "      <td>KODIAK ISLAND REGION, ALASKA</td>\n",
       "      <td>3.5</td>\n",
       "    </tr>\n",
       "    <tr>\n",
       "      <th>1</th>\n",
       "      <td>2022-07-19</td>\n",
       "      <td>15:27</td>\n",
       "      <td>26.71</td>\n",
       "      <td>N</td>\n",
       "      <td>55.33</td>\n",
       "      <td>E</td>\n",
       "      <td>SOUTHERN IRAN</td>\n",
       "      <td>3.7</td>\n",
       "    </tr>\n",
       "    <tr>\n",
       "      <th>2</th>\n",
       "      <td>2022-07-19</td>\n",
       "      <td>15:24</td>\n",
       "      <td>35.50</td>\n",
       "      <td>N</td>\n",
       "      <td>3.61</td>\n",
       "      <td>W</td>\n",
       "      <td>STRAIT OF GIBRALTAR</td>\n",
       "      <td>1.8</td>\n",
       "    </tr>\n",
       "    <tr>\n",
       "      <th>3</th>\n",
       "      <td>2022-07-19</td>\n",
       "      <td>15:20</td>\n",
       "      <td>28.37</td>\n",
       "      <td>S</td>\n",
       "      <td>67.43</td>\n",
       "      <td>W</td>\n",
       "      <td>LA RIOJA, ARGENTINA</td>\n",
       "      <td>4.8</td>\n",
       "    </tr>\n",
       "    <tr>\n",
       "      <th>4</th>\n",
       "      <td>2022-07-19</td>\n",
       "      <td>15:09</td>\n",
       "      <td>39.81</td>\n",
       "      <td>N</td>\n",
       "      <td>41.83</td>\n",
       "      <td>E</td>\n",
       "      <td>EASTERN TURKEY</td>\n",
       "      <td>2.7</td>\n",
       "    </tr>\n",
       "    <tr>\n",
       "      <th>5</th>\n",
       "      <td>2022-07-19</td>\n",
       "      <td>14:45</td>\n",
       "      <td>35.44</td>\n",
       "      <td>N</td>\n",
       "      <td>27.78</td>\n",
       "      <td>E</td>\n",
       "      <td>DODECANESE ISLANDS, GREECE</td>\n",
       "      <td>3.0</td>\n",
       "    </tr>\n",
       "    <tr>\n",
       "      <th>6</th>\n",
       "      <td>2022-07-19</td>\n",
       "      <td>14:43</td>\n",
       "      <td>21.94</td>\n",
       "      <td>S</td>\n",
       "      <td>68.78</td>\n",
       "      <td>W</td>\n",
       "      <td>ANTOFAGASTA, CHILE</td>\n",
       "      <td>3.6</td>\n",
       "    </tr>\n",
       "    <tr>\n",
       "      <th>7</th>\n",
       "      <td>2022-07-19</td>\n",
       "      <td>14:34</td>\n",
       "      <td>20.15</td>\n",
       "      <td>S</td>\n",
       "      <td>69.15</td>\n",
       "      <td>W</td>\n",
       "      <td>TARAPACA, CHILE</td>\n",
       "      <td>3.2</td>\n",
       "    </tr>\n",
       "    <tr>\n",
       "      <th>8</th>\n",
       "      <td>2022-07-19</td>\n",
       "      <td>14:32</td>\n",
       "      <td>35.16</td>\n",
       "      <td>N</td>\n",
       "      <td>25.31</td>\n",
       "      <td>E</td>\n",
       "      <td>CRETE, GREECE</td>\n",
       "      <td>3.0</td>\n",
       "    </tr>\n",
       "    <tr>\n",
       "      <th>9</th>\n",
       "      <td>2022-07-19</td>\n",
       "      <td>14:26</td>\n",
       "      <td>7.51</td>\n",
       "      <td>S</td>\n",
       "      <td>106.23</td>\n",
       "      <td>E</td>\n",
       "      <td>JAVA, INDONESIA</td>\n",
       "      <td>3.3</td>\n",
       "    </tr>\n",
       "  </tbody>\n",
       "</table>\n",
       "</div>"
      ],
      "text/plain": [
       "         Date   Hour Latitude  Lat Longitude Long  \\\n",
       "0  2022-07-19  15:35   57.71   N     153.97   W     \n",
       "1  2022-07-19  15:27   26.71   N      55.33   E     \n",
       "2  2022-07-19  15:24   35.50   N       3.61   W     \n",
       "3  2022-07-19  15:20   28.37   S      67.43   W     \n",
       "4  2022-07-19  15:09   39.81   N      41.83   E     \n",
       "5  2022-07-19  14:45   35.44   N      27.78   E     \n",
       "6  2022-07-19  14:43   21.94   S      68.78   W     \n",
       "7  2022-07-19  14:34   20.15   S      69.15   W     \n",
       "8  2022-07-19  14:32   35.16   N      25.31   E     \n",
       "9  2022-07-19  14:26    7.51   S     106.23   E     \n",
       "\n",
       "                          Region Magnitude  \n",
       "0   KODIAK ISLAND REGION, ALASKA       3.5  \n",
       "1                  SOUTHERN IRAN       3.7  \n",
       "2            STRAIT OF GIBRALTAR       1.8  \n",
       "3            LA RIOJA, ARGENTINA       4.8  \n",
       "4                 EASTERN TURKEY       2.7  \n",
       "5     DODECANESE ISLANDS, GREECE       3.0  \n",
       "6             ANTOFAGASTA, CHILE       3.6  \n",
       "7                TARAPACA, CHILE       3.2  \n",
       "8                  CRETE, GREECE       3.0  \n",
       "9                JAVA, INDONESIA       3.3  "
      ]
     },
     "execution_count": 17,
     "metadata": {},
     "output_type": "execute_result"
    }
   ],
   "source": [
    "Earth = pd.DataFrame({\"Date\":date_, \"Hour\":hour_,'Latitude':latitude,'Lat':lat_l, 'Longitude':longitude, 'Long':lon_l, 'Region':region, 'Magnitude':magnitude})\n",
    "Earth"
   ]
  },
  {
   "cell_type": "code",
   "execution_count": null,
   "id": "aebf56f8",
   "metadata": {},
   "outputs": [],
   "source": []
  },
  {
   "cell_type": "code",
   "execution_count": null,
   "id": "c267bb3f",
   "metadata": {},
   "outputs": [],
   "source": []
  },
  {
   "cell_type": "code",
   "execution_count": null,
   "id": "6721149e",
   "metadata": {},
   "outputs": [],
   "source": []
  },
  {
   "cell_type": "code",
   "execution_count": null,
   "id": "25125af2",
   "metadata": {},
   "outputs": [],
   "source": []
  },
  {
   "cell_type": "code",
   "execution_count": null,
   "id": "b10c85be",
   "metadata": {},
   "outputs": [],
   "source": []
  },
  {
   "cell_type": "code",
   "execution_count": null,
   "id": "a93f8e3f",
   "metadata": {},
   "outputs": [],
   "source": []
  },
  {
   "cell_type": "code",
   "execution_count": null,
   "id": "6661ae62",
   "metadata": {},
   "outputs": [],
   "source": []
  },
  {
   "cell_type": "code",
   "execution_count": null,
   "id": "dd6340d1",
   "metadata": {},
   "outputs": [],
   "source": []
  },
  {
   "cell_type": "code",
   "execution_count": null,
   "id": "d08109f5",
   "metadata": {},
   "outputs": [],
   "source": []
  },
  {
   "cell_type": "code",
   "execution_count": 16,
   "id": "8531fe96",
   "metadata": {},
   "outputs": [
    {
     "name": "stdout",
     "output_type": "stream",
     "text": [
      "On branch master\n",
      "Your branch is up to date with 'origin/master'.\n",
      "\n",
      "Changes to be committed:\n",
      "  (use \"git restore --staged <file>...\" to unstage)\n",
      "\t\u001b[32mmodified:   .ipynb_checkpoints/Untitled1-Copy1-checkpoint.ipynb\u001b[m\n",
      "\t\u001b[32mmodified:   Untitled1-Copy1.ipynb\u001b[m\n",
      "\n",
      "[master 56e72fa] fbi most_wanted & earthquakes\n",
      " 2 files changed, 441 insertions(+), 259 deletions(-)\n",
      "Enumerating objects: 7, done.\n",
      "Counting objects: 100% (7/7), done.\n",
      "Delta compression using up to 8 threads\n",
      "Compressing objects: 100% (4/4), done.\n",
      "Writing objects: 100% (4/4), 3.16 KiB | 3.16 MiB/s, done.\n",
      "Total 4 (delta 2), reused 0 (delta 0), pack-reused 0\n",
      "remote: Resolving deltas: 100% (2/2), completed with 2 local objects.\u001b[K\n",
      "To https://github.com/mferreiracad/lab-web-scraping-single-page\n",
      "   8279991..56e72fa  master -> master\n"
     ]
    }
   ],
   "source": [
    "!git add .\n",
    "!git status\n",
    "!git commit -m 'fbi most_wanted & earthquakes'\n",
    "!git push"
   ]
  },
  {
   "cell_type": "code",
   "execution_count": null,
   "id": "40e47993",
   "metadata": {},
   "outputs": [],
   "source": []
  }
 ],
 "metadata": {
  "kernelspec": {
   "display_name": "Python 3 (ipykernel)",
   "language": "python",
   "name": "python3"
  },
  "language_info": {
   "codemirror_mode": {
    "name": "ipython",
    "version": 3
   },
   "file_extension": ".py",
   "mimetype": "text/x-python",
   "name": "python",
   "nbconvert_exporter": "python",
   "pygments_lexer": "ipython3",
   "version": "3.9.12"
  },
  "toc": {
   "base_numbering": 1,
   "nav_menu": {},
   "number_sections": true,
   "sideBar": true,
   "skip_h1_title": false,
   "title_cell": "Table of Contents",
   "title_sidebar": "Contents",
   "toc_cell": false,
   "toc_position": {},
   "toc_section_display": true,
   "toc_window_display": false
  }
 },
 "nbformat": 4,
 "nbformat_minor": 5
}
