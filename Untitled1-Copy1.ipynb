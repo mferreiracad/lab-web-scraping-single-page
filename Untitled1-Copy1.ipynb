{
 "cells": [
  {
   "cell_type": "code",
   "execution_count": 42,
   "id": "865d3d65",
   "metadata": {},
   "outputs": [],
   "source": [
    "from bs4 import BeautifulSoup\n",
    "import requests\n",
    "import pandas as pd"
   ]
  },
  {
   "cell_type": "code",
   "execution_count": 43,
   "id": "e610320f",
   "metadata": {},
   "outputs": [],
   "source": [
    "url = \"https://www.fbi.gov/wanted/topten\""
   ]
  },
  {
   "cell_type": "code",
   "execution_count": 44,
   "id": "92cc6c0b",
   "metadata": {},
   "outputs": [
    {
     "data": {
      "text/plain": [
       "200"
      ]
     },
     "execution_count": 44,
     "metadata": {},
     "output_type": "execute_result"
    }
   ],
   "source": [
    "response = requests.get(url)\n",
    "response.status_code"
   ]
  },
  {
   "cell_type": "code",
   "execution_count": 45,
   "id": "7a6d757f",
   "metadata": {},
   "outputs": [],
   "source": [
    "soup = BeautifulSoup(response.content, \"html.parser\")"
   ]
  },
  {
   "cell_type": "code",
   "execution_count": 75,
   "id": "408eaae3",
   "metadata": {},
   "outputs": [
    {
     "data": {
      "text/plain": [
       "[<a href=\"https://www.fbi.gov/wanted/topten/jason-derek-brown\">JASON DEREK BROWN</a>,\n",
       " <a href=\"https://www.fbi.gov/wanted/topten/ruja-ignatova\">RUJA IGNATOVA</a>,\n",
       " <a href=\"https://www.fbi.gov/wanted/topten/arnoldo-jimenez\">ARNOLDO JIMENEZ</a>,\n",
       " <a href=\"https://www.fbi.gov/wanted/topten/alexis-flores\">ALEXIS FLORES</a>,\n",
       " <a href=\"https://www.fbi.gov/wanted/topten/jose-rodolfo-villarreal-hernandez\">JOSE RODOLFO VILLARREAL-HERNANDEZ</a>,\n",
       " <a href=\"https://www.fbi.gov/wanted/topten/yulan-adonay-archaga-carias\">YULAN ADONAY ARCHAGA CARIAS</a>,\n",
       " <a href=\"https://www.fbi.gov/wanted/topten/rafael-caro-quintero\">RAFAEL CARO-QUINTERO</a>,\n",
       " <a href=\"https://www.fbi.gov/wanted/topten/eugene-palmer\">EUGENE PALMER</a>,\n",
       " <a href=\"https://www.fbi.gov/wanted/topten/bhadreshkumar-chetanbhai-patel\">BHADRESHKUMAR CHETANBHAI PATEL</a>,\n",
       " <a href=\"https://www.fbi.gov/wanted/topten/alejandro-castillo\">ALEJANDRO ROSALES CASTILLO</a>]"
      ]
     },
     "execution_count": 75,
     "metadata": {},
     "output_type": "execute_result"
    }
   ],
   "source": [
    "a = soup.select('#query-results-0f737222c5054a81a120bce207b0446a > ul > li > h3 >a')\n",
    "a"
   ]
  },
  {
   "cell_type": "code",
   "execution_count": 76,
   "id": "14e7a2b2",
   "metadata": {},
   "outputs": [
    {
     "name": "stdout",
     "output_type": "stream",
     "text": [
      "['JASON DEREK BROWN', 'RUJA IGNATOVA', 'ARNOLDO JIMENEZ', 'ALEXIS FLORES', 'JOSE RODOLFO VILLARREAL-HERNANDEZ', 'YULAN ADONAY ARCHAGA CARIAS', 'RAFAEL CARO-QUINTERO', 'EUGENE PALMER', 'BHADRESHKUMAR CHETANBHAI PATEL', 'ALEJANDRO ROSALES CASTILLO']\n"
     ]
    }
   ],
   "source": [
    "most_wanted = []\n",
    "\n",
    "num_iter = len(a)\n",
    "#query-results-0f737222c5054a81a120bce207b0446a > ul > li:nth-child(1) > h3 > a\n",
    "name = a\n",
    "\n",
    "for i in range(num_iter):\n",
    "     most_wanted.append(name[i].get_text())\n",
    "\n",
    "print(most_wanted)"
   ]
  },
  {
   "cell_type": "code",
   "execution_count": 77,
   "id": "364501b4",
   "metadata": {},
   "outputs": [],
   "source": [
    "most_wanted = pd.DataFrame({\"Name\":most_wanted})"
   ]
  },
  {
   "cell_type": "code",
   "execution_count": 78,
   "id": "1b948407",
   "metadata": {},
   "outputs": [
    {
     "data": {
      "text/html": [
       "<div>\n",
       "<style scoped>\n",
       "    .dataframe tbody tr th:only-of-type {\n",
       "        vertical-align: middle;\n",
       "    }\n",
       "\n",
       "    .dataframe tbody tr th {\n",
       "        vertical-align: top;\n",
       "    }\n",
       "\n",
       "    .dataframe thead th {\n",
       "        text-align: right;\n",
       "    }\n",
       "</style>\n",
       "<table border=\"1\" class=\"dataframe\">\n",
       "  <thead>\n",
       "    <tr style=\"text-align: right;\">\n",
       "      <th></th>\n",
       "      <th>Name</th>\n",
       "    </tr>\n",
       "  </thead>\n",
       "  <tbody>\n",
       "    <tr>\n",
       "      <th>0</th>\n",
       "      <td>JASON DEREK BROWN</td>\n",
       "    </tr>\n",
       "    <tr>\n",
       "      <th>1</th>\n",
       "      <td>RUJA IGNATOVA</td>\n",
       "    </tr>\n",
       "    <tr>\n",
       "      <th>2</th>\n",
       "      <td>ARNOLDO JIMENEZ</td>\n",
       "    </tr>\n",
       "    <tr>\n",
       "      <th>3</th>\n",
       "      <td>ALEXIS FLORES</td>\n",
       "    </tr>\n",
       "    <tr>\n",
       "      <th>4</th>\n",
       "      <td>JOSE RODOLFO VILLARREAL-HERNANDEZ</td>\n",
       "    </tr>\n",
       "    <tr>\n",
       "      <th>5</th>\n",
       "      <td>YULAN ADONAY ARCHAGA CARIAS</td>\n",
       "    </tr>\n",
       "    <tr>\n",
       "      <th>6</th>\n",
       "      <td>RAFAEL CARO-QUINTERO</td>\n",
       "    </tr>\n",
       "    <tr>\n",
       "      <th>7</th>\n",
       "      <td>EUGENE PALMER</td>\n",
       "    </tr>\n",
       "    <tr>\n",
       "      <th>8</th>\n",
       "      <td>BHADRESHKUMAR CHETANBHAI PATEL</td>\n",
       "    </tr>\n",
       "    <tr>\n",
       "      <th>9</th>\n",
       "      <td>ALEJANDRO ROSALES CASTILLO</td>\n",
       "    </tr>\n",
       "  </tbody>\n",
       "</table>\n",
       "</div>"
      ],
      "text/plain": [
       "                                Name\n",
       "0                  JASON DEREK BROWN\n",
       "1                      RUJA IGNATOVA\n",
       "2                    ARNOLDO JIMENEZ\n",
       "3                      ALEXIS FLORES\n",
       "4  JOSE RODOLFO VILLARREAL-HERNANDEZ\n",
       "5        YULAN ADONAY ARCHAGA CARIAS\n",
       "6               RAFAEL CARO-QUINTERO\n",
       "7                      EUGENE PALMER\n",
       "8     BHADRESHKUMAR CHETANBHAI PATEL\n",
       "9         ALEJANDRO ROSALES CASTILLO"
      ]
     },
     "execution_count": 78,
     "metadata": {},
     "output_type": "execute_result"
    }
   ],
   "source": [
    "most_wanted"
   ]
  },
  {
   "cell_type": "code",
   "execution_count": null,
   "id": "c19114f8",
   "metadata": {},
   "outputs": [],
   "source": [
    "# Display the 20 latest earthquakes info (date, time, latitude, longitude and region name"
   ]
  },
  {
   "cell_type": "code",
   "execution_count": 146,
   "id": "eb831b93",
   "metadata": {},
   "outputs": [],
   "source": [
    "url = 'https://www.emsc-csem.org/Earthquake/'"
   ]
  },
  {
   "cell_type": "code",
   "execution_count": 147,
   "id": "77e92caa",
   "metadata": {},
   "outputs": [
    {
     "data": {
      "text/plain": [
       "200"
      ]
     },
     "execution_count": 147,
     "metadata": {},
     "output_type": "execute_result"
    }
   ],
   "source": [
    "response = requests.get(url)\n",
    "response.status_code"
   ]
  },
  {
   "cell_type": "code",
   "execution_count": 148,
   "id": "cb6fa6a1",
   "metadata": {},
   "outputs": [],
   "source": [
    "soup = BeautifulSoup(response.content, \"html.parser\")"
   ]
  },
  {
   "cell_type": "code",
   "execution_count": 167,
   "id": "cc46da9b",
   "metadata": {},
   "outputs": [],
   "source": [
    "time = []\n",
    "latitude = []\n",
    "lat_l = []\n",
    "longitude = [] \n",
    "lon_l = []\n",
    "region = []\n",
    "magnitude =[]\n",
    "num_iter = 10\n",
    "\n",
    "date = soup.select('tbody tr td.tabev6 b')\n",
    "lat = soup.select('tbody tr td:nth-child(5)')\n",
    "lon = soup.select('tbody tr td:nth-child(7)')\n",
    "lt_l = soup.select('tbody tr td:nth-child(6)')\n",
    "ln_l = soup.select('tbody tr td:nth-child(8)')\n",
    "reg = soup.select('tbody tr td.tb_region')\n",
    "mag = soup.select('tbody tr td:nth-child(11)')\n",
    "for i in range(num_iter):\n",
    "    time.append(date[i].get_text())\n",
    "    latitude.append(lat[i].get_text())\n",
    "    longitude.append(lon[i].get_text())\n",
    "    lat_l.append(lt_l[i].get_text())\n",
    "    lon_l.append(ln_l[i].get_text())\n",
    "    region.append(reg[i].get_text())\n",
    "    magnitude.append(mag[i].get_text())"
   ]
  },
  {
   "cell_type": "code",
   "execution_count": 181,
   "id": "9424e748",
   "metadata": {},
   "outputs": [
    {
     "data": {
      "text/plain": [
       "['2022-07-19',\n",
       " '2022-07-19',\n",
       " '2022-07-19',\n",
       " '2022-07-19',\n",
       " '2022-07-19',\n",
       " '2022-07-19',\n",
       " '2022-07-19',\n",
       " '2022-07-19',\n",
       " '2022-07-19',\n",
       " '2022-07-19']"
      ]
     },
     "execution_count": 181,
     "metadata": {},
     "output_type": "execute_result"
    }
   ],
   "source": [
    "date_ = []\n",
    "hour_ = []\n",
    "for x in time:\n",
    "    hour = x[-10:-2]\n",
    "    date = x[10:20]\n",
    "    hour_.append(hour)\n",
    "    date_.append(date)\n",
    "hour_\n",
    "date_"
   ]
  },
  {
   "cell_type": "code",
   "execution_count": 182,
   "id": "a0f36835",
   "metadata": {},
   "outputs": [
    {
     "data": {
      "text/html": [
       "<div>\n",
       "<style scoped>\n",
       "    .dataframe tbody tr th:only-of-type {\n",
       "        vertical-align: middle;\n",
       "    }\n",
       "\n",
       "    .dataframe tbody tr th {\n",
       "        vertical-align: top;\n",
       "    }\n",
       "\n",
       "    .dataframe thead th {\n",
       "        text-align: right;\n",
       "    }\n",
       "</style>\n",
       "<table border=\"1\" class=\"dataframe\">\n",
       "  <thead>\n",
       "    <tr style=\"text-align: right;\">\n",
       "      <th></th>\n",
       "      <th>Date</th>\n",
       "      <th>Hour</th>\n",
       "      <th>Latitude</th>\n",
       "      <th>Lat</th>\n",
       "      <th>Longitude</th>\n",
       "      <th>Long</th>\n",
       "      <th>Region</th>\n",
       "      <th>Magnitude</th>\n",
       "    </tr>\n",
       "  </thead>\n",
       "  <tbody>\n",
       "    <tr>\n",
       "      <th>0</th>\n",
       "      <td>2022-07-19</td>\n",
       "      <td>07:58:51</td>\n",
       "      <td>8.38</td>\n",
       "      <td>S</td>\n",
       "      <td>120.30</td>\n",
       "      <td>E</td>\n",
       "      <td>FLORES REGION, INDONESIA</td>\n",
       "      <td>3.3</td>\n",
       "    </tr>\n",
       "    <tr>\n",
       "      <th>1</th>\n",
       "      <td>2022-07-19</td>\n",
       "      <td>07:53:50</td>\n",
       "      <td>23.31</td>\n",
       "      <td>S</td>\n",
       "      <td>66.75</td>\n",
       "      <td>W</td>\n",
       "      <td>JUJUY, ARGENTINA</td>\n",
       "      <td>3.5</td>\n",
       "    </tr>\n",
       "    <tr>\n",
       "      <th>2</th>\n",
       "      <td>2022-07-19</td>\n",
       "      <td>07:37:32</td>\n",
       "      <td>41.99</td>\n",
       "      <td>N</td>\n",
       "      <td>6.79</td>\n",
       "      <td>W</td>\n",
       "      <td>PORTUGAL</td>\n",
       "      <td>2.1</td>\n",
       "    </tr>\n",
       "    <tr>\n",
       "      <th>3</th>\n",
       "      <td>2022-07-19</td>\n",
       "      <td>07:35:31</td>\n",
       "      <td>12.22</td>\n",
       "      <td>N</td>\n",
       "      <td>126.13</td>\n",
       "      <td>E</td>\n",
       "      <td>PHILIPPINE ISLANDS REGION</td>\n",
       "      <td>3.7</td>\n",
       "    </tr>\n",
       "    <tr>\n",
       "      <th>4</th>\n",
       "      <td>2022-07-19</td>\n",
       "      <td>07:09:42</td>\n",
       "      <td>10.53</td>\n",
       "      <td>N</td>\n",
       "      <td>126.58</td>\n",
       "      <td>E</td>\n",
       "      <td>PHILIPPINE ISLANDS REGION</td>\n",
       "      <td>3.2</td>\n",
       "    </tr>\n",
       "    <tr>\n",
       "      <th>5</th>\n",
       "      <td>2022-07-19</td>\n",
       "      <td>06:59:07</td>\n",
       "      <td>33.98</td>\n",
       "      <td>N</td>\n",
       "      <td>116.69</td>\n",
       "      <td>W</td>\n",
       "      <td>SOUTHERN CALIFORNIA</td>\n",
       "      <td>2.5</td>\n",
       "    </tr>\n",
       "    <tr>\n",
       "      <th>6</th>\n",
       "      <td>2022-07-19</td>\n",
       "      <td>06:58:10</td>\n",
       "      <td>22.82</td>\n",
       "      <td>S</td>\n",
       "      <td>68.15</td>\n",
       "      <td>W</td>\n",
       "      <td>ANTOFAGASTA, CHILE</td>\n",
       "      <td>2.7</td>\n",
       "    </tr>\n",
       "    <tr>\n",
       "      <th>7</th>\n",
       "      <td>2022-07-19</td>\n",
       "      <td>06:56:28</td>\n",
       "      <td>12.90</td>\n",
       "      <td>S</td>\n",
       "      <td>76.16</td>\n",
       "      <td>W</td>\n",
       "      <td>NEAR COAST OF CENTRAL PERU</td>\n",
       "      <td>4.7</td>\n",
       "    </tr>\n",
       "    <tr>\n",
       "      <th>8</th>\n",
       "      <td>2022-07-19</td>\n",
       "      <td>06:52:20</td>\n",
       "      <td>38.91</td>\n",
       "      <td>N</td>\n",
       "      <td>38.40</td>\n",
       "      <td>E</td>\n",
       "      <td>EASTERN TURKEY</td>\n",
       "      <td>3.5</td>\n",
       "    </tr>\n",
       "    <tr>\n",
       "      <th>9</th>\n",
       "      <td>2022-07-19</td>\n",
       "      <td>06:46:38</td>\n",
       "      <td>3.90</td>\n",
       "      <td>S</td>\n",
       "      <td>128.72</td>\n",
       "      <td>E</td>\n",
       "      <td>SERAM, INDONESIA</td>\n",
       "      <td>3.3</td>\n",
       "    </tr>\n",
       "  </tbody>\n",
       "</table>\n",
       "</div>"
      ],
      "text/plain": [
       "         Date      Hour Latitude  Lat Longitude Long  \\\n",
       "0  2022-07-19  07:58:51    8.38   S     120.30   E     \n",
       "1  2022-07-19  07:53:50   23.31   S      66.75   W     \n",
       "2  2022-07-19  07:37:32   41.99   N       6.79   W     \n",
       "3  2022-07-19  07:35:31   12.22   N     126.13   E     \n",
       "4  2022-07-19  07:09:42   10.53   N     126.58   E     \n",
       "5  2022-07-19  06:59:07   33.98   N     116.69   W     \n",
       "6  2022-07-19  06:58:10   22.82   S      68.15   W     \n",
       "7  2022-07-19  06:56:28   12.90   S      76.16   W     \n",
       "8  2022-07-19  06:52:20   38.91   N      38.40   E     \n",
       "9  2022-07-19  06:46:38    3.90   S     128.72   E     \n",
       "\n",
       "                        Region Magnitude  \n",
       "0     FLORES REGION, INDONESIA       3.3  \n",
       "1             JUJUY, ARGENTINA       3.5  \n",
       "2                     PORTUGAL       2.1  \n",
       "3    PHILIPPINE ISLANDS REGION       3.7  \n",
       "4    PHILIPPINE ISLANDS REGION       3.2  \n",
       "5          SOUTHERN CALIFORNIA       2.5  \n",
       "6           ANTOFAGASTA, CHILE       2.7  \n",
       "7   NEAR COAST OF CENTRAL PERU       4.7  \n",
       "8               EASTERN TURKEY       3.5  \n",
       "9             SERAM, INDONESIA       3.3  "
      ]
     },
     "execution_count": 182,
     "metadata": {},
     "output_type": "execute_result"
    }
   ],
   "source": [
    "Earth = pd.DataFrame({\"Date\":date_, \"Hour\":hour_,'Latitude':latitude,'Lat':lat_l, 'Longitude':longitude, 'Long':lon_l, 'Region':region, 'Magnitude':magnitude})\n",
    "Earth"
   ]
  },
  {
   "cell_type": "code",
   "execution_count": null,
   "id": "aebf56f8",
   "metadata": {},
   "outputs": [],
   "source": []
  },
  {
   "cell_type": "code",
   "execution_count": null,
   "id": "c267bb3f",
   "metadata": {},
   "outputs": [],
   "source": []
  },
  {
   "cell_type": "code",
   "execution_count": null,
   "id": "6721149e",
   "metadata": {},
   "outputs": [],
   "source": []
  },
  {
   "cell_type": "code",
   "execution_count": null,
   "id": "25125af2",
   "metadata": {},
   "outputs": [],
   "source": []
  },
  {
   "cell_type": "code",
   "execution_count": null,
   "id": "b10c85be",
   "metadata": {},
   "outputs": [],
   "source": []
  },
  {
   "cell_type": "code",
   "execution_count": null,
   "id": "a93f8e3f",
   "metadata": {},
   "outputs": [],
   "source": []
  },
  {
   "cell_type": "code",
   "execution_count": null,
   "id": "6661ae62",
   "metadata": {},
   "outputs": [],
   "source": []
  },
  {
   "cell_type": "code",
   "execution_count": null,
   "id": "dd6340d1",
   "metadata": {},
   "outputs": [],
   "source": []
  },
  {
   "cell_type": "code",
   "execution_count": null,
   "id": "d08109f5",
   "metadata": {},
   "outputs": [],
   "source": []
  },
  {
   "cell_type": "code",
   "execution_count": 183,
   "id": "8531fe96",
   "metadata": {},
   "outputs": [
    {
     "name": "stdout",
     "output_type": "stream",
     "text": [
      "On branch master\n",
      "Your branch is up to date with 'origin/master'.\n",
      "\n",
      "Changes to be committed:\n",
      "  (use \"git restore --staged <file>...\" to unstage)\n",
      "\t\u001b[32mmodified:   Untitled1-Copy1.ipynb\u001b[m\n",
      "\t\u001b[32mmodified:   Untitled1.ipynb\u001b[m\n",
      "\n",
      "[master 8279991] fbi most_wanted & earthquakes\n",
      " 2 files changed, 377 insertions(+), 209 deletions(-)\n",
      "Enumerating objects: 7, done.\n",
      "Counting objects: 100% (7/7), done.\n",
      "Delta compression using up to 8 threads\n",
      "Compressing objects: 100% (4/4), done.\n",
      "Writing objects: 100% (4/4), 2.61 KiB | 2.61 MiB/s, done.\n",
      "Total 4 (delta 3), reused 0 (delta 0), pack-reused 0\n",
      "remote: Resolving deltas: 100% (3/3), completed with 3 local objects.\u001b[K\n",
      "To https://github.com/mferreiracad/lab-web-scraping-single-page\n",
      "   cd44bd0..8279991  master -> master\n"
     ]
    }
   ],
   "source": [
    "!git add .\n",
    "!git status\n",
    "!git commit -m 'fbi most_wanted & earthquakes'\n",
    "!git push"
   ]
  },
  {
   "cell_type": "code",
   "execution_count": null,
   "id": "40e47993",
   "metadata": {},
   "outputs": [],
   "source": []
  }
 ],
 "metadata": {
  "kernelspec": {
   "display_name": "Python 3 (ipykernel)",
   "language": "python",
   "name": "python3"
  },
  "language_info": {
   "codemirror_mode": {
    "name": "ipython",
    "version": 3
   },
   "file_extension": ".py",
   "mimetype": "text/x-python",
   "name": "python",
   "nbconvert_exporter": "python",
   "pygments_lexer": "ipython3",
   "version": "3.9.12"
  },
  "toc": {
   "base_numbering": 1,
   "nav_menu": {},
   "number_sections": true,
   "sideBar": true,
   "skip_h1_title": false,
   "title_cell": "Table of Contents",
   "title_sidebar": "Contents",
   "toc_cell": false,
   "toc_position": {},
   "toc_section_display": true,
   "toc_window_display": false
  }
 },
 "nbformat": 4,
 "nbformat_minor": 5
}
