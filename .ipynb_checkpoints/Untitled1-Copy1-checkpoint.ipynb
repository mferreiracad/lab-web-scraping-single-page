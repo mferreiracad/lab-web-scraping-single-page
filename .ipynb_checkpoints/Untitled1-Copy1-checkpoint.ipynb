{
 "cells": [
  {
   "cell_type": "code",
   "execution_count": 1,
   "id": "865d3d65",
   "metadata": {},
   "outputs": [],
   "source": [
    "from bs4 import BeautifulSoup\n",
    "import requests\n",
    "import pandas as pd"
   ]
  },
  {
   "cell_type": "code",
   "execution_count": 2,
   "id": "e610320f",
   "metadata": {},
   "outputs": [],
   "source": [
    "url = \"https://www.popvortex.com/music/charts/top-100-songs.php\""
   ]
  },
  {
   "cell_type": "code",
   "execution_count": 3,
   "id": "92cc6c0b",
   "metadata": {},
   "outputs": [
    {
     "data": {
      "text/plain": [
       "200"
      ]
     },
     "execution_count": 3,
     "metadata": {},
     "output_type": "execute_result"
    }
   ],
   "source": [
    "response = requests.get(url)\n",
    "response.status_code"
   ]
  },
  {
   "cell_type": "code",
   "execution_count": 4,
   "id": "7a6d757f",
   "metadata": {},
   "outputs": [],
   "source": [
    "soup = BeautifulSoup(response.content, \"html.parser\")"
   ]
  },
  {
   "cell_type": "code",
   "execution_count": null,
   "id": "408eaae3",
   "metadata": {},
   "outputs": [],
   "source": [
    "soup"
   ]
  },
  {
   "cell_type": "code",
   "execution_count": 6,
   "id": "eeb1a7d9",
   "metadata": {},
   "outputs": [
    {
     "data": {
      "text/plain": [
       "[<p class=\"title-artist\"><cite class=\"title\">About Damn Time</cite><em class=\"artist\">Lizzo</em></p>]"
      ]
     },
     "execution_count": 6,
     "metadata": {},
     "output_type": "execute_result"
    }
   ],
   "source": [
    "soup.select(\"#chart-position-1 > div.chart-content.col-xs-12.col-sm-8 > p\")"
   ]
  },
  {
   "cell_type": "code",
   "execution_count": null,
   "id": "14e7a2b2",
   "metadata": {},
   "outputs": [],
   "source": [
    "soup.select(\"p\")"
   ]
  },
  {
   "cell_type": "code",
   "execution_count": null,
   "id": "6c118890",
   "metadata": {
    "scrolled": false
   },
   "outputs": [],
   "source": [
    "soup.select(\"p em\")"
   ]
  },
  {
   "cell_type": "code",
   "execution_count": 10,
   "id": "20fd5caa",
   "metadata": {},
   "outputs": [
    {
     "data": {
      "text/plain": [
       "'Lizzo'"
      ]
     },
     "execution_count": 10,
     "metadata": {},
     "output_type": "execute_result"
    }
   ],
   "source": [
    "soup.select(\"p em\")[0].get_text()"
   ]
  },
  {
   "cell_type": "code",
   "execution_count": 15,
   "id": "d2af4f6d",
   "metadata": {},
   "outputs": [
    {
     "data": {
      "text/plain": [
       "<cite class=\"title\">About Damn Time</cite>"
      ]
     },
     "execution_count": 15,
     "metadata": {},
     "output_type": "execute_result"
    }
   ],
   "source": [
    "soup.select(\"p cite\")[0]"
   ]
  },
  {
   "cell_type": "code",
   "execution_count": 16,
   "id": "9d9cb454",
   "metadata": {},
   "outputs": [
    {
     "name": "stdout",
     "output_type": "stream",
     "text": [
      "['About Damn Time', 'Running Up That Hill (A Deal with God)', \"Y'all Life\", 'Names', 'BREAK MY SOUL', 'As It Was', 'The Kind of Love We Make', 'She Had Me At Heads Carolina', 'Unstoppable', 'About Damn Time', 'Quietly Yours', \"I Ain't Worried\", 'Wasted On You', 'Rock and A Hard Place', 'Irrelevant', 'Good as Hell', 'Arson', 'Party In the U.S.A.', 'Master of Puppets', 'Like I Love Country Music', 'Left and Right', 'Sunroof', 'You Proof', 'Hold My Hand', 'Stay With Me', 'AA', 'First Class', 'Hey You', 'Love Shack', 'I Like You (A Happier Song) [feat. Doja Cat]', 'Son Of A Sinner', 'Call Me Maybe', 'Poker Face', 'Fancy Like', '= (Equal Sign)', 'Hot Shit', 'Glimpse of Us', 'Big Energy (Remix) [feat. DJ Khaled]', \"'Til You Can't\", 'Don’t Come Lookin’', 'Fall In Love', 'Never Gonna Give You Up', \"Can't Stop Us Now\", 'Cold Heart (PNAU Remix)', 'Numb', '5 Foot 9', 'Tennessee Whiskey', \"Pandora's Box\", 'Lights (Single Version)', 'Late Night Talking', 'Safety Zone', 'Future', 'Special', 'What If…', 'Dark Horse (feat. Juicy J)', 'Damn Strait', 'Vegas', 'Just the Way You Are (feat. Lupe Fiasco) [Remix] [Bonus Track]', 'Sweet Caroline', 'STOP', 'Everybody Wants to Rule the World', \"I'm Yours\", \"Sweet Child O' Mine\", \"When You're Gone\", 'Roar', 'Music Box : Reflection', '7 Years', 'You', 'Dancing Queen', 'Grenade', 'Shivers', 'Separate Ways (Worlds Apart) [Steve Perry & Bryce Miller Extended Remix]', 'Joy of My Life', 'The Motto', \"Something in the Orange (Z&E's Version)\", 'Tití Me Preguntó', 'Love Me More', 'Victoria’s Secret', 'Intro', 'W.I.T.C.H.', 'Hold On', 'She Likes It (feat. Jake Scott)', 'Kings & Queens', 'Sand In My Boots', 'Hot n Cold', 'Wild Palomino', 'When I Was Your Man', 'Danger Zone', 'Take My Name', 'Running up That Hill (A Deal with God)', 'Vegas (From the Original Motion Picture Soundtrack ELVIS)', 'Heat Waves', 'Numb Little Bug', 'Levitating (feat. DaBaby)', 'Big Energy', 'Soul', 'abcdefu (feat. Royal & the Serpent)', 'Carolina (From The Motion Picture “Where The Crawdads Sing”)', 'Buy Dirt (feat. Luke Bryan)', 'Hold My Hand (Music From The Motion Picture \"Top Gun: Maverick\")']\n",
      "['Lizzo', 'Kate Bush', 'Walker Hayes', 'Tom MacDonald', 'Beyoncé', 'Harry Styles', 'Luke Combs', 'Cole Swindell', 'Sia', 'Lizzo', 'Birdy', 'OneRepublic', 'Morgan Wallen', 'Bailey Zimmerman', 'P!nk', 'Lizzo', 'j-hope', 'Miley Cyrus', 'Metallica', 'Kane Brown', 'Charlie Puth & Jung Kook', 'Nicky Youre & Dazy', 'Morgan Wallen', 'Lady Gaga', 'Calvin Harris, Justin Timberlake, Halsey & Pharrell Williams', 'Walker Hayes', 'Jack Harlow', 'Disturbed', \"The B-52's\", 'Post Malone', 'Jelly Roll', 'Carly Rae Jepsen', 'Lady Gaga', 'Walker Hayes', 'j-hope', 'Cardi B, Kanye West & Lil Durk', 'Joji', 'Latto & Mariah Carey', 'Cody Johnson', 'Jackson Dean', 'Bailey Zimmerman', 'Rick Astley', 'Pitbull & Zac Brown', 'Elton John & Dua Lipa', 'Marshmello & Khalid', 'Tyler Hubbard', 'Chris Stapleton', 'j-hope', 'Ellie Goulding', 'Harry Styles', 'j-hope', 'j-hope', 'Lizzo', 'j-hope', 'Katy Perry', 'Scotty McCreery', 'Doja Cat', 'Bruno Mars', 'Neil Diamond', 'j-hope', 'Tears for Fears', 'Jason Mraz', \"Guns N' Roses\", 'Shawn Mendes', 'Katy Perry', 'j-hope', 'Lukas Graham', 'Louyah', 'ABBA', 'Bruno Mars', 'Ed Sheeran', 'Journey & Steve Perry', 'Chris Stapleton', 'Tiësto & Ava Max', 'Zach Bryan', 'Bad Bunny', 'Sam Smith', 'Jax', 'j-hope', 'Devon Cole', 'Wilson Phillips', 'Russell Dickerson & Jake Scott', 'Ava Max', 'Morgan Wallen', 'Katy Perry', 'Zac Brown Band & Cody Johnson', 'Bruno Mars', 'Kenny Loggins', 'Parmalee', 'Loveless', 'Doja Cat', 'Glass Animals', 'Em Beihold', 'Dua Lipa', 'Latto', 'Lee Brice', 'GAYLE', 'Taylor Swift', 'Jordan Davis', 'Lady Gaga']\n"
     ]
    }
   ],
   "source": [
    "title = []\n",
    "artist = []\n",
    "\n",
    "num_iter = len(soup.select(\"p cite\"))\n",
    "\n",
    "artlist = soup.select(\"p em\")\n",
    "musiclist = soup.select('p cite')\n",
    "\n",
    "for i in range(num_iter):\n",
    "    title.append(musiclist[i].get_text())\n",
    "    artist.append(artlist[i].get_text())\n",
    "\n",
    "print(title)\n",
    "print(artist)"
   ]
  },
  {
   "cell_type": "code",
   "execution_count": 19,
   "id": "364501b4",
   "metadata": {},
   "outputs": [],
   "source": [
    "top100 = pd.DataFrame({\"title\":title,\n",
    "                       \"artist\":artist,\n",
    "                      })"
   ]
  },
  {
   "cell_type": "code",
   "execution_count": 31,
   "id": "1b948407",
   "metadata": {},
   "outputs": [
    {
     "data": {
      "text/html": [
       "<div>\n",
       "<style scoped>\n",
       "    .dataframe tbody tr th:only-of-type {\n",
       "        vertical-align: middle;\n",
       "    }\n",
       "\n",
       "    .dataframe tbody tr th {\n",
       "        vertical-align: top;\n",
       "    }\n",
       "\n",
       "    .dataframe thead th {\n",
       "        text-align: right;\n",
       "    }\n",
       "</style>\n",
       "<table border=\"1\" class=\"dataframe\">\n",
       "  <thead>\n",
       "    <tr style=\"text-align: right;\">\n",
       "      <th></th>\n",
       "      <th>title</th>\n",
       "      <th>artist</th>\n",
       "    </tr>\n",
       "  </thead>\n",
       "  <tbody>\n",
       "    <tr>\n",
       "      <th>0</th>\n",
       "      <td>About Damn Time</td>\n",
       "      <td>Lizzo</td>\n",
       "    </tr>\n",
       "    <tr>\n",
       "      <th>1</th>\n",
       "      <td>Running Up That Hill (A Deal with God)</td>\n",
       "      <td>Kate Bush</td>\n",
       "    </tr>\n",
       "    <tr>\n",
       "      <th>2</th>\n",
       "      <td>Y'all Life</td>\n",
       "      <td>Walker Hayes</td>\n",
       "    </tr>\n",
       "    <tr>\n",
       "      <th>3</th>\n",
       "      <td>Names</td>\n",
       "      <td>Tom MacDonald</td>\n",
       "    </tr>\n",
       "    <tr>\n",
       "      <th>4</th>\n",
       "      <td>BREAK MY SOUL</td>\n",
       "      <td>Beyoncé</td>\n",
       "    </tr>\n",
       "  </tbody>\n",
       "</table>\n",
       "</div>"
      ],
      "text/plain": [
       "                                    title         artist\n",
       "0                         About Damn Time          Lizzo\n",
       "1  Running Up That Hill (A Deal with God)      Kate Bush\n",
       "2                              Y'all Life   Walker Hayes\n",
       "3                                   Names  Tom MacDonald\n",
       "4                           BREAK MY SOUL        Beyoncé"
      ]
     },
     "execution_count": 31,
     "metadata": {},
     "output_type": "execute_result"
    }
   ],
   "source": [
    "top100.head()"
   ]
  },
  {
   "cell_type": "code",
   "execution_count": 32,
   "id": "eb831b93",
   "metadata": {},
   "outputs": [
    {
     "data": {
      "text/html": [
       "<div>\n",
       "<style scoped>\n",
       "    .dataframe tbody tr th:only-of-type {\n",
       "        vertical-align: middle;\n",
       "    }\n",
       "\n",
       "    .dataframe tbody tr th {\n",
       "        vertical-align: top;\n",
       "    }\n",
       "\n",
       "    .dataframe thead th {\n",
       "        text-align: right;\n",
       "    }\n",
       "</style>\n",
       "<table border=\"1\" class=\"dataframe\">\n",
       "  <thead>\n",
       "    <tr style=\"text-align: right;\">\n",
       "      <th></th>\n",
       "      <th>title</th>\n",
       "      <th>artist</th>\n",
       "    </tr>\n",
       "  </thead>\n",
       "  <tbody>\n",
       "    <tr>\n",
       "      <th>95</th>\n",
       "      <td>Soul</td>\n",
       "      <td>Lee Brice</td>\n",
       "    </tr>\n",
       "    <tr>\n",
       "      <th>96</th>\n",
       "      <td>abcdefu (feat. Royal &amp; the Serpent)</td>\n",
       "      <td>GAYLE</td>\n",
       "    </tr>\n",
       "    <tr>\n",
       "      <th>97</th>\n",
       "      <td>Carolina (From The Motion Picture “Where The C...</td>\n",
       "      <td>Taylor Swift</td>\n",
       "    </tr>\n",
       "    <tr>\n",
       "      <th>98</th>\n",
       "      <td>Buy Dirt (feat. Luke Bryan)</td>\n",
       "      <td>Jordan Davis</td>\n",
       "    </tr>\n",
       "    <tr>\n",
       "      <th>99</th>\n",
       "      <td>Hold My Hand (Music From The Motion Picture \"T...</td>\n",
       "      <td>Lady Gaga</td>\n",
       "    </tr>\n",
       "  </tbody>\n",
       "</table>\n",
       "</div>"
      ],
      "text/plain": [
       "                                                title        artist\n",
       "95                                               Soul     Lee Brice\n",
       "96                abcdefu (feat. Royal & the Serpent)         GAYLE\n",
       "97  Carolina (From The Motion Picture “Where The C...  Taylor Swift\n",
       "98                        Buy Dirt (feat. Luke Bryan)  Jordan Davis\n",
       "99  Hold My Hand (Music From The Motion Picture \"T...     Lady Gaga"
      ]
     },
     "execution_count": 32,
     "metadata": {},
     "output_type": "execute_result"
    }
   ],
   "source": [
    "top100.tail()"
   ]
  },
  {
   "cell_type": "code",
   "execution_count": 2,
   "id": "8531fe96",
   "metadata": {},
   "outputs": [
    {
     "name": "stdout",
     "output_type": "stream",
     "text": [
      "On branch master\n",
      "Your branch is up to date with 'origin/master'.\n",
      "\n",
      "Changes to be committed:\n",
      "  (use \"git restore --staged <file>...\" to unstage)\n",
      "\t\u001b[32mnew file:   Untitled1.ipynb\u001b[m\n",
      "\n",
      "[master 9206127] done\n",
      " 1 file changed, 418 insertions(+)\n",
      " create mode 100644 Untitled1.ipynb\n",
      "Enumerating objects: 4, done.\n",
      "Counting objects: 100% (4/4), done.\n",
      "Delta compression using up to 8 threads\n",
      "Compressing objects: 100% (3/3), done.\n",
      "Writing objects: 100% (3/3), 4.08 KiB | 4.08 MiB/s, done.\n",
      "Total 3 (delta 0), reused 0 (delta 0), pack-reused 0\n",
      "To https://github.com/mferreiracad/lab-web-scraping-single-page\n",
      "   fb2b534..9206127  master -> master\n"
     ]
    }
   ],
   "source": [
    "!git add .\n",
    "!git status\n",
    "!git commit -m 'done'\n",
    "!git push"
   ]
  },
  {
   "cell_type": "code",
   "execution_count": null,
   "id": "40e47993",
   "metadata": {},
   "outputs": [],
   "source": []
  }
 ],
 "metadata": {
  "kernelspec": {
   "display_name": "Python 3 (ipykernel)",
   "language": "python",
   "name": "python3"
  },
  "language_info": {
   "codemirror_mode": {
    "name": "ipython",
    "version": 3
   },
   "file_extension": ".py",
   "mimetype": "text/x-python",
   "name": "python",
   "nbconvert_exporter": "python",
   "pygments_lexer": "ipython3",
   "version": "3.9.12"
  },
  "toc": {
   "base_numbering": 1,
   "nav_menu": {},
   "number_sections": true,
   "sideBar": true,
   "skip_h1_title": false,
   "title_cell": "Table of Contents",
   "title_sidebar": "Contents",
   "toc_cell": false,
   "toc_position": {},
   "toc_section_display": true,
   "toc_window_display": false
  }
 },
 "nbformat": 4,
 "nbformat_minor": 5
}
