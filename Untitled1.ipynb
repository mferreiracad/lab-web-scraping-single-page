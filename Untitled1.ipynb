{
 "cells": [
  {
   "cell_type": "code",
   "execution_count": 7,
   "id": "865d3d65",
   "metadata": {},
   "outputs": [],
   "source": [
    "from bs4 import BeautifulSoup\n",
    "import requests\n",
    "import pandas as pd"
   ]
  },
  {
   "cell_type": "code",
   "execution_count": 2,
   "id": "e610320f",
   "metadata": {},
   "outputs": [],
   "source": [
    "url = \"https://www.popvortex.com/music/charts/top-100-songs.php\""
   ]
  },
  {
   "cell_type": "code",
   "execution_count": 3,
   "id": "92cc6c0b",
   "metadata": {},
   "outputs": [
    {
     "data": {
      "text/plain": [
       "200"
      ]
     },
     "execution_count": 3,
     "metadata": {},
     "output_type": "execute_result"
    }
   ],
   "source": [
    "response = requests.get(url)\n",
    "response.status_code"
   ]
  },
  {
   "cell_type": "code",
   "execution_count": 4,
   "id": "7a6d757f",
   "metadata": {},
   "outputs": [],
   "source": [
    "soup = BeautifulSoup(response.content, \"html.parser\")"
   ]
  },
  {
   "cell_type": "code",
   "execution_count": null,
   "id": "408eaae3",
   "metadata": {},
   "outputs": [],
   "source": [
    "soup"
   ]
  },
  {
   "cell_type": "code",
   "execution_count": 6,
   "id": "eeb1a7d9",
   "metadata": {},
   "outputs": [
    {
     "data": {
      "text/plain": [
       "[<p class=\"title-artist\"><cite class=\"title\">About Damn Time</cite><em class=\"artist\">Lizzo</em></p>]"
      ]
     },
     "execution_count": 6,
     "metadata": {},
     "output_type": "execute_result"
    }
   ],
   "source": [
    "soup.select(\"#chart-position-1 > div.chart-content.col-xs-12.col-sm-8 > p\")"
   ]
  },
  {
   "cell_type": "code",
   "execution_count": null,
   "id": "14e7a2b2",
   "metadata": {},
   "outputs": [],
   "source": [
    "soup.select(\"p\")"
   ]
  },
  {
   "cell_type": "code",
   "execution_count": null,
   "id": "6c118890",
   "metadata": {
    "scrolled": false
   },
   "outputs": [],
   "source": [
    "soup.select(\"p em\")"
   ]
  },
  {
   "cell_type": "code",
   "execution_count": 10,
   "id": "20fd5caa",
   "metadata": {},
   "outputs": [
    {
     "data": {
      "text/plain": [
       "'Lizzo'"
      ]
     },
     "execution_count": 10,
     "metadata": {},
     "output_type": "execute_result"
    }
   ],
   "source": [
    "soup.select(\"p em\")[0].get_text()"
   ]
  },
  {
   "cell_type": "code",
   "execution_count": 15,
   "id": "d2af4f6d",
   "metadata": {},
   "outputs": [
    {
     "data": {
      "text/plain": [
       "<cite class=\"title\">About Damn Time</cite>"
      ]
     },
     "execution_count": 15,
     "metadata": {},
     "output_type": "execute_result"
    }
   ],
   "source": [
    "soup.select(\"p cite\")[0]"
   ]
  },
  {
   "cell_type": "code",
   "execution_count": 16,
   "id": "9d9cb454",
   "metadata": {},
   "outputs": [
    {
     "name": "stdout",
     "output_type": "stream",
     "text": [
      "['About Damn Time', 'Running Up That Hill (A Deal with God)', \"Y'all Life\", 'Names', 'BREAK MY SOUL', 'As It Was', 'The Kind of Love We Make', 'She Had Me At Heads Carolina', 'Unstoppable', 'About Damn Time', 'Quietly Yours', \"I Ain't Worried\", 'Wasted On You', 'Rock and A Hard Place', 'Irrelevant', 'Good as Hell', 'Arson', 'Party In the U.S.A.', 'Master of Puppets', 'Like I Love Country Music', 'Left and Right', 'Sunroof', 'You Proof', 'Hold My Hand', 'Stay With Me', 'AA', 'First Class', 'Hey You', 'Love Shack', 'I Like You (A Happier Song) [feat. Doja Cat]', 'Son Of A Sinner', 'Call Me Maybe', 'Poker Face', 'Fancy Like', '= (Equal Sign)', 'Hot Shit', 'Glimpse of Us', 'Big Energy (Remix) [feat. DJ Khaled]', \"'Til You Can't\", 'Don’t Come Lookin’', 'Fall In Love', 'Never Gonna Give You Up', \"Can't Stop Us Now\", 'Cold Heart (PNAU Remix)', 'Numb', '5 Foot 9', 'Tennessee Whiskey', \"Pandora's Box\", 'Lights (Single Version)', 'Late Night Talking', 'Safety Zone', 'Future', 'Special', 'What If…', 'Dark Horse (feat. Juicy J)', 'Damn Strait', 'Vegas', 'Just the Way You Are (feat. Lupe Fiasco) [Remix] [Bonus Track]', 'Sweet Caroline', 'STOP', 'Everybody Wants to Rule the World', \"I'm Yours\", \"Sweet Child O' Mine\", \"When You're Gone\", 'Roar', 'Music Box : Reflection', '7 Years', 'You', 'Dancing Queen', 'Grenade', 'Shivers', 'Separate Ways (Worlds Apart) [Steve Perry & Bryce Miller Extended Remix]', 'Joy of My Life', 'The Motto', \"Something in the Orange (Z&E's Version)\", 'Tití Me Preguntó', 'Love Me More', 'Victoria’s Secret', 'Intro', 'W.I.T.C.H.', 'Hold On', 'She Likes It (feat. Jake Scott)', 'Kings & Queens', 'Sand In My Boots', 'Hot n Cold', 'Wild Palomino', 'When I Was Your Man', 'Danger Zone', 'Take My Name', 'Running up That Hill (A Deal with God)', 'Vegas (From the Original Motion Picture Soundtrack ELVIS)', 'Heat Waves', 'Numb Little Bug', 'Levitating (feat. DaBaby)', 'Big Energy', 'Soul', 'abcdefu (feat. Royal & the Serpent)', 'Carolina (From The Motion Picture “Where The Crawdads Sing”)', 'Buy Dirt (feat. Luke Bryan)', 'Hold My Hand (Music From The Motion Picture \"Top Gun: Maverick\")']\n",
      "['Lizzo', 'Kate Bush', 'Walker Hayes', 'Tom MacDonald', 'Beyoncé', 'Harry Styles', 'Luke Combs', 'Cole Swindell', 'Sia', 'Lizzo', 'Birdy', 'OneRepublic', 'Morgan Wallen', 'Bailey Zimmerman', 'P!nk', 'Lizzo', 'j-hope', 'Miley Cyrus', 'Metallica', 'Kane Brown', 'Charlie Puth & Jung Kook', 'Nicky Youre & Dazy', 'Morgan Wallen', 'Lady Gaga', 'Calvin Harris, Justin Timberlake, Halsey & Pharrell Williams', 'Walker Hayes', 'Jack Harlow', 'Disturbed', \"The B-52's\", 'Post Malone', 'Jelly Roll', 'Carly Rae Jepsen', 'Lady Gaga', 'Walker Hayes', 'j-hope', 'Cardi B, Kanye West & Lil Durk', 'Joji', 'Latto & Mariah Carey', 'Cody Johnson', 'Jackson Dean', 'Bailey Zimmerman', 'Rick Astley', 'Pitbull & Zac Brown', 'Elton John & Dua Lipa', 'Marshmello & Khalid', 'Tyler Hubbard', 'Chris Stapleton', 'j-hope', 'Ellie Goulding', 'Harry Styles', 'j-hope', 'j-hope', 'Lizzo', 'j-hope', 'Katy Perry', 'Scotty McCreery', 'Doja Cat', 'Bruno Mars', 'Neil Diamond', 'j-hope', 'Tears for Fears', 'Jason Mraz', \"Guns N' Roses\", 'Shawn Mendes', 'Katy Perry', 'j-hope', 'Lukas Graham', 'Louyah', 'ABBA', 'Bruno Mars', 'Ed Sheeran', 'Journey & Steve Perry', 'Chris Stapleton', 'Tiësto & Ava Max', 'Zach Bryan', 'Bad Bunny', 'Sam Smith', 'Jax', 'j-hope', 'Devon Cole', 'Wilson Phillips', 'Russell Dickerson & Jake Scott', 'Ava Max', 'Morgan Wallen', 'Katy Perry', 'Zac Brown Band & Cody Johnson', 'Bruno Mars', 'Kenny Loggins', 'Parmalee', 'Loveless', 'Doja Cat', 'Glass Animals', 'Em Beihold', 'Dua Lipa', 'Latto', 'Lee Brice', 'GAYLE', 'Taylor Swift', 'Jordan Davis', 'Lady Gaga']\n"
     ]
    }
   ],
   "source": [
    "title = []\n",
    "artist = []\n",
    "\n",
    "num_iter = len(soup.select(\"p cite\"))\n",
    "\n",
    "artlist = soup.select(\"p em\")\n",
    "musiclist = soup.select('p cite')\n",
    "\n",
    "for i in range(num_iter):\n",
    "    title.append(musiclist[i].get_text())\n",
    "    artist.append(artlist[i].get_text())\n",
    "\n",
    "print(title)\n",
    "print(artist)"
   ]
  },
  {
   "cell_type": "code",
   "execution_count": 19,
   "id": "364501b4",
   "metadata": {},
   "outputs": [],
   "source": [
    "top100 = pd.DataFrame({\"title\":title,\n",
    "                       \"artist\":artist,\n",
    "                      })"
   ]
  },
  {
   "cell_type": "code",
   "execution_count": 31,
   "id": "1b948407",
   "metadata": {},
   "outputs": [
    {
     "data": {
      "text/html": [
       "<div>\n",
       "<style scoped>\n",
       "    .dataframe tbody tr th:only-of-type {\n",
       "        vertical-align: middle;\n",
       "    }\n",
       "\n",
       "    .dataframe tbody tr th {\n",
       "        vertical-align: top;\n",
       "    }\n",
       "\n",
       "    .dataframe thead th {\n",
       "        text-align: right;\n",
       "    }\n",
       "</style>\n",
       "<table border=\"1\" class=\"dataframe\">\n",
       "  <thead>\n",
       "    <tr style=\"text-align: right;\">\n",
       "      <th></th>\n",
       "      <th>title</th>\n",
       "      <th>artist</th>\n",
       "    </tr>\n",
       "  </thead>\n",
       "  <tbody>\n",
       "    <tr>\n",
       "      <th>0</th>\n",
       "      <td>About Damn Time</td>\n",
       "      <td>Lizzo</td>\n",
       "    </tr>\n",
       "    <tr>\n",
       "      <th>1</th>\n",
       "      <td>Running Up That Hill (A Deal with God)</td>\n",
       "      <td>Kate Bush</td>\n",
       "    </tr>\n",
       "    <tr>\n",
       "      <th>2</th>\n",
       "      <td>Y'all Life</td>\n",
       "      <td>Walker Hayes</td>\n",
       "    </tr>\n",
       "    <tr>\n",
       "      <th>3</th>\n",
       "      <td>Names</td>\n",
       "      <td>Tom MacDonald</td>\n",
       "    </tr>\n",
       "    <tr>\n",
       "      <th>4</th>\n",
       "      <td>BREAK MY SOUL</td>\n",
       "      <td>Beyoncé</td>\n",
       "    </tr>\n",
       "  </tbody>\n",
       "</table>\n",
       "</div>"
      ],
      "text/plain": [
       "                                    title         artist\n",
       "0                         About Damn Time          Lizzo\n",
       "1  Running Up That Hill (A Deal with God)      Kate Bush\n",
       "2                              Y'all Life   Walker Hayes\n",
       "3                                   Names  Tom MacDonald\n",
       "4                           BREAK MY SOUL        Beyoncé"
      ]
     },
     "execution_count": 31,
     "metadata": {},
     "output_type": "execute_result"
    }
   ],
   "source": [
    "top100.head()"
   ]
  },
  {
   "cell_type": "code",
   "execution_count": 32,
   "id": "eb831b93",
   "metadata": {},
   "outputs": [
    {
     "data": {
      "text/html": [
       "<div>\n",
       "<style scoped>\n",
       "    .dataframe tbody tr th:only-of-type {\n",
       "        vertical-align: middle;\n",
       "    }\n",
       "\n",
       "    .dataframe tbody tr th {\n",
       "        vertical-align: top;\n",
       "    }\n",
       "\n",
       "    .dataframe thead th {\n",
       "        text-align: right;\n",
       "    }\n",
       "</style>\n",
       "<table border=\"1\" class=\"dataframe\">\n",
       "  <thead>\n",
       "    <tr style=\"text-align: right;\">\n",
       "      <th></th>\n",
       "      <th>title</th>\n",
       "      <th>artist</th>\n",
       "    </tr>\n",
       "  </thead>\n",
       "  <tbody>\n",
       "    <tr>\n",
       "      <th>95</th>\n",
       "      <td>Soul</td>\n",
       "      <td>Lee Brice</td>\n",
       "    </tr>\n",
       "    <tr>\n",
       "      <th>96</th>\n",
       "      <td>abcdefu (feat. Royal &amp; the Serpent)</td>\n",
       "      <td>GAYLE</td>\n",
       "    </tr>\n",
       "    <tr>\n",
       "      <th>97</th>\n",
       "      <td>Carolina (From The Motion Picture “Where The C...</td>\n",
       "      <td>Taylor Swift</td>\n",
       "    </tr>\n",
       "    <tr>\n",
       "      <th>98</th>\n",
       "      <td>Buy Dirt (feat. Luke Bryan)</td>\n",
       "      <td>Jordan Davis</td>\n",
       "    </tr>\n",
       "    <tr>\n",
       "      <th>99</th>\n",
       "      <td>Hold My Hand (Music From The Motion Picture \"T...</td>\n",
       "      <td>Lady Gaga</td>\n",
       "    </tr>\n",
       "  </tbody>\n",
       "</table>\n",
       "</div>"
      ],
      "text/plain": [
       "                                                title        artist\n",
       "95                                               Soul     Lee Brice\n",
       "96                abcdefu (feat. Royal & the Serpent)         GAYLE\n",
       "97  Carolina (From The Motion Picture “Where The C...  Taylor Swift\n",
       "98                        Buy Dirt (feat. Luke Bryan)  Jordan Davis\n",
       "99  Hold My Hand (Music From The Motion Picture \"T...     Lady Gaga"
      ]
     },
     "execution_count": 32,
     "metadata": {},
     "output_type": "execute_result"
    }
   ],
   "source": [
    "top100.tail()"
   ]
  },
  {
   "cell_type": "code",
   "execution_count": 8,
   "id": "40e47993",
   "metadata": {},
   "outputs": [],
   "source": [
    "url = \"https://kworb.net/spotify/country/global_daily.html\""
   ]
  },
  {
   "cell_type": "code",
   "execution_count": 9,
   "id": "121f3b92",
   "metadata": {},
   "outputs": [
    {
     "data": {
      "text/plain": [
       "200"
      ]
     },
     "execution_count": 9,
     "metadata": {},
     "output_type": "execute_result"
    }
   ],
   "source": [
    "response = requests.get(url)\n",
    "response.status_code"
   ]
  },
  {
   "cell_type": "code",
   "execution_count": 10,
   "id": "f0442505",
   "metadata": {},
   "outputs": [],
   "source": [
    "soup = BeautifulSoup(response.content, \"html.parser\")"
   ]
  },
  {
   "cell_type": "code",
   "execution_count": 41,
   "id": "9b1e2829",
   "metadata": {},
   "outputs": [
    {
     "data": {
      "text/plain": [
       "[<a href=\"../track/2tTmW7RDtMQtBk7m2rYeSw.html\">Quevedo: Bzrp Music Sessions, Vol. 52</a>]"
      ]
     },
     "execution_count": 41,
     "metadata": {},
     "output_type": "execute_result"
    }
   ],
   "source": [
    "soup.select(\"#spotifydaily > tbody > tr:nth-child(1) > td.text.mp > div > a:nth-child(2)\")"
   ]
  },
  {
   "cell_type": "code",
   "execution_count": 56,
   "id": "e526fe04",
   "metadata": {},
   "outputs": [
    {
     "data": {
      "text/plain": [
       "[<td class=\"text mp\"><div><a href=\"../artist/716NhGYqD1jl2wI1Qkgq36.html\">Bizarrap</a> - <a href=\"../track/2tTmW7RDtMQtBk7m2rYeSw.html\">Quevedo: Bzrp Music Sessions, Vol. 52</a></div></td>,\n",
       " <td class=\"text mp\"><div><a href=\"../artist/6KImCVD70vtIoJWnq6nGn3.html\">Harry Styles</a> - <a href=\"../track/4LRPiXqCikLlN15c3yImP7.html\">As It Was</a></div></td>,\n",
       " <td class=\"text mp\"><div><a href=\"../artist/1aSxMhuvixZ8h9dK9jIDwL.html\">Kate Bush</a> - <a href=\"../track/75FEaRjZTKLhTrFGsfMUXR.html\">Running Up That Hill (A Deal With God)</a></div></td>,\n",
       " <td class=\"text mp\"><div><a href=\"../artist/4q3ewBCX7sLwd24euuV69X.html\">Bad Bunny</a> - <a href=\"../track/6Sq7ltF9Qa7SNFBsV5Cogx.html\">Me Porto Bonito</a></div></td>,\n",
       " <td class=\"text mp\"><div><a href=\"../artist/4q3ewBCX7sLwd24euuV69X.html\">Bad Bunny</a> - <a href=\"../track/1IHWl5LamUGEuP4ozKQSXZ.html\">Tití Me Preguntó</a></div></td>,\n",
       " <td class=\"text mp\"><div><a href=\"../artist/3MZsBdqDrRTJihTHQrO6Dq.html\">Joji</a> - <a href=\"../track/6xGruZOHLs39ZbVccQTuPZ.html\">Glimpse of Us</a></div></td>,\n",
       " <td class=\"text mp\"><div><a href=\"../artist/4q3ewBCX7sLwd24euuV69X.html\">Bad Bunny</a> - <a href=\"../track/3k3NWokhRRkEPhCzPmV8TW.html\">Ojitos Lindos</a></div></td>,\n",
       " <td class=\"text mp\"><div><a href=\"../artist/4q3ewBCX7sLwd24euuV69X.html\">Bad Bunny</a> - <a href=\"../track/5Eax0qFko2dh7Rl2lYs3bx.html\">Efecto</a></div></td>,\n",
       " <td class=\"text mp\"><div><a href=\"../artist/4q3ewBCX7sLwd24euuV69X.html\">Bad Bunny</a> - <a href=\"../track/6Xom58OOXk2SoU711L2IXO.html\">Moscow Mule</a></div></td>,\n",
       " <td class=\"text mp\"><div><a href=\"../artist/4yvcSjfu4PC0CYQyLy4wSq.html\">Glass Animals</a> - <a href=\"../track/02MWAaffLxlfxAUY7c5dvx.html\">Heat Waves</a></div></td>,\n",
       " <td class=\"text mp\"><div><a href=\"../artist/6VuMaDnrHyPL1p4EHjYLi7.html\">Charlie Puth</a> - <a href=\"../track/0mBP9X2gPCuapvpZ7TGDk3.html\">Left and Right (Feat. Jung Kook of BTS)</a></div></td>,\n",
       " <td class=\"text mp\"><div><a href=\"../artist/56oDRnqbIiwx4mymNEv7dS.html\">Lizzo</a> - <a href=\"../track/1PckUlxKqWQs3RlWXVBLw3.html\">About Damn Time</a></div></td>,\n",
       " <td class=\"text mp\"><div><a href=\"../artist/790FomKkXshlbRYZFtlgla.html\">KAROL G</a> - <a href=\"../track/7dSZ6zGTQx66c2GF91xCrb.html\">PROVENZA</a></div></td>,\n",
       " <td class=\"text mp\"><div><a href=\"../artist/0EmeFodog0BfCgMzAIvKQp.html\">Shakira</a> - <a href=\"../track/2rurDawMfoKP4uHyb2kJBt.html\">Te Felicito</a></div></td>,\n",
       " <td class=\"text mp\"><div><a href=\"../artist/5Pwc4xIPtQLFEnJriah9YJ.html\">OneRepublic</a> - <a href=\"../track/4h9wh7iOZ0GGn8QVp4RAOB.html\">I Ain't Worried</a></div></td>,\n",
       " <td class=\"text mp\"><div><a href=\"../artist/4q3ewBCX7sLwd24euuV69X.html\">Bad Bunny</a> - <a href=\"../track/41oY4WCTj5kccfesTVFnvN.html\">Tarot</a></div></td>,\n",
       " <td class=\"text mp\"><div><a href=\"../artist/4q3ewBCX7sLwd24euuV69X.html\">Bad Bunny</a> - <a href=\"../track/4tYFy8ALRjIZvnvSLw5lxN.html\">Party</a></div></td>,\n",
       " <td class=\"text mp\"><div><a href=\"../artist/2tIP7SsRs7vjIcLrU85W8J.html\">The Kid LAROI</a> - <a href=\"../track/5PjdY0CKGZdEuoNab3yDmX.html\">Stay</a></div></td>,\n",
       " <td class=\"text mp\"><div><a href=\"../artist/3PhoLpVuITZKcymswpck5b.html\">Elton John</a> - <a href=\"../track/7rglLriMNBPAyuJOMGwi39.html\">Cold Heart - PNAU Remix</a></div></td>,\n",
       " <td class=\"text mp\"><div><a href=\"../artist/3TVXtAsR1Inumwj472S9r4.html\">Drake</a> - <a href=\"../track/3F5CgOj3wFlRv51JsHbxhe.html\">Jimmy Cooks</a></div></td>,\n",
       " <td class=\"text mp\"><div><a href=\"../artist/4nDoRrQiYLoBzwC5BhVJzF.html\">Camila Cabello</a> - <a href=\"../track/2DB4DdfCFMw1iaR6JaR03a.html\">Bam Bam</a></div></td>,\n",
       " <td class=\"text mp\"><div><a href=\"../artist/6KImCVD70vtIoJWnq6nGn3.html\">Harry Styles</a> - <a href=\"../track/1qEmFfgcLObUfQm0j1W2CK.html\">Late Night Talking</a></div></td>,\n",
       " <td class=\"text mp\"><div><a href=\"../artist/57vWImR43h4CaDao012Ofp.html\">Steve Lacy</a> - <a href=\"../track/5CM4UuQ9Gnd6K2YyKGPMoK.html\">Bad Habit</a></div></td>,\n",
       " <td class=\"text mp\"><div><a href=\"../artist/2LIk90788K0zvyj2JJVwkJ.html\">Jack Harlow</a> - <a href=\"../track/0wHFktze2PHC5jDt3B17DC.html\">First Class</a></div></td>,\n",
       " <td class=\"text mp\"><div><a href=\"../artist/246dkjvS1zLTtiykXe5h60.html\">Post Malone</a> - <a href=\"../track/0O6u0VJ46W86TxN9wgyqDj.html\">I Like You (A Happier Song)</a></div></td>,\n",
       " <td class=\"text mp\"><div><a href=\"../artist/2ye2Wgw4gimLv2eAKyk1NB.html\">Metallica</a> - <a href=\"../track/2MuWTIM3b0YEAskbeeFE1i.html\">Master Of Puppets</a></div></td>,\n",
       " <td class=\"text mp\"><div><a href=\"../artist/0b1sIQumIAsNbqAoIClSpy.html\">j-hope</a> - <a href=\"../track/4XKXphKH76W4zNpkgFS5o2.html\">MORE</a></div></td>,\n",
       " <td class=\"text mp\"><div><a href=\"../artist/0b1sIQumIAsNbqAoIClSpy.html\">j-hope</a> - <a href=\"../track/2QWEMqQMJR1KDf6hDjJOs6.html\">Arson</a></div></td>,\n",
       " <td class=\"text mp\"><div><a href=\"../artist/7CajNmpbOovFoOoasH2HaY.html\">Calvin Harris</a> - <a href=\"../track/7ef4DlsgrMEH11cDZd32M6.html\">One Kiss</a></div></td>,\n",
       " <td class=\"text mp\"><div><a href=\"../artist/5cj0lLjcoR7YOSnhnX0Po5.html\">Doja Cat</a> - <a href=\"../track/0hquQWY3xvYqN4qtiquniF.html\">Vegas (From the Original Motion Picture Soundtrack ELVIS)</a></div></td>,\n",
       " <td class=\"text mp\"><div><a href=\"../artist/7qmpXeNz2ojlMl2EEfkeLs.html\">Nicky Youre</a> - <a href=\"../track/4h4QlmocP3IuwYEj2j14p8.html\">Sunroof</a></div></td>,\n",
       " <td class=\"text mp\"><div><a href=\"../artist/4q3ewBCX7sLwd24euuV69X.html\">Bad Bunny</a> - <a href=\"../track/1dm6z1fWB0cErMszU25dy2.html\">Después de la Playa</a></div></td>,\n",
       " <td class=\"text mp\"><div><a href=\"../artist/6vWDO969PvNqNYHIOW5v0m.html\">Beyoncé</a> - <a href=\"../track/2KukL7UlQ8TdvpaA7bY3ZJ.html\">BREAK MY SOUL</a></div></td>,\n",
       " <td class=\"text mp\"><div><a href=\"../artist/1Yj5Xey7kTwvZla8sqdsdE.html\">Cris Mj</a> - <a href=\"../track/1O2pcBJGej0pmH2Y9XZMs6.html\">Una Noche en Medellín</a></div></td>,\n",
       " <td class=\"text mp\"><div><a href=\"../artist/06VwNCd4PPAxBuxheaf5bz.html\">DJ Robin</a> - <a href=\"../track/3ujiq7yK4Uan5z4876fHLK.html\">Layla</a></div></td>,\n",
       " <td class=\"text mp\"><div><a href=\"../artist/1uNFoZAHBGtllmzznpCI3s.html\">Justin Bieber</a> - <a href=\"../track/6I3mqTwhRpn34SLVafSH7G.html\">Ghost</a></div></td>,\n",
       " <td class=\"text mp\"><div><a href=\"../artist/67MNhiAICFY6Pwc2YxCO0K.html\">Elley Duhé</a> - <a href=\"../track/58HvfVOeJY7lUuCqF0m3ly.html\">MIDDLE OF THE NIGHT</a></div></td>,\n",
       " <td class=\"text mp\"><div><a href=\"../artist/4q3ewBCX7sLwd24euuV69X.html\">Bad Bunny</a> - <a href=\"../track/1797zYiX4cKosMH836X9Gt.html\">La Corriente</a></div></td>,\n",
       " <td class=\"text mp\"><div><a href=\"../artist/4obzFoKoKRHIphyHzJ35G3.html\">Becky G</a> - <a href=\"../track/1ri9ZUkBJVFUdgwzCnfcYs.html\">MAMIII</a></div></td>,\n",
       " <td class=\"text mp\"><div><a href=\"../artist/7f5Zgnp2spUuuzKplmRkt7.html\">Lost Frequencies</a> - <a href=\"../track/3uUuGVFu1V7jTQL60S1r8z.html\">Where Are You Now</a></div></td>,\n",
       " <td class=\"text mp\"><div><a href=\"../artist/5XKFrudbV4IiuE5WuTPRmT.html\">Stephen Sanchez</a> - <a href=\"../track/0T5iIrXA4p5GsubkhuBIKV.html\">Until I Found You</a></div></td>,\n",
       " <td class=\"text mp\"><div><a href=\"../artist/6eUKZXaKkcviH0Ku9w2n3V.html\">Ed Sheeran</a> - <a href=\"../track/50nfwKoDiSYg8zOCREWAm5.html\">Shivers</a></div></td>,\n",
       " <td class=\"text mp\"><div><a href=\"../artist/1Xyo4u8uXC1ZmMpatF05PJ.html\">The Weeknd</a> - <a href=\"../track/0VjIjW4GlUZAMYd2vXMi3b.html\">Blinding Lights</a></div></td>,\n",
       " <td class=\"text mp\"><div><a href=\"../artist/1mcTU81TzQhprhouKaTkpq.html\">Rauw Alejandro</a> - <a href=\"../track/6mmPpaltUZK7xjNlBPQQ0p.html\">Desesperados</a></div></td>,\n",
       " <td class=\"text mp\"><div><a href=\"../artist/53XhwfbYqKCa1cC15pYq2q.html\">Imagine Dragons</a> - <a href=\"../track/1HhNoOuqm1a5MXYEgAFl8o.html\">Enemy</a></div></td>,\n",
       " <td class=\"text mp\"><div><a href=\"../artist/5cj0lLjcoR7YOSnhnX0Po5.html\">Doja Cat</a> - <a href=\"../track/6Uj1ctrBOjOas8xZXGqKk4.html\">Woman</a></div></td>,\n",
       " <td class=\"text mp\"><div><a href=\"../artist/7jVv8c5Fj3E9VhNjxT4snq.html\">Lil Nas X</a> - <a href=\"../track/5Z9KJZvQzH6PFmb8SNkxuk.html\">INDUSTRY BABY</a></div></td>,\n",
       " <td class=\"text mp\"><div><a href=\"../artist/43BxCL6t4c73BQnIJtry5v.html\">James Hype</a> - <a href=\"../track/4zN21mbAuaD0WqtmaTZZeP.html\">Ferrari</a></div></td>,\n",
       " <td class=\"text mp\"><div><a href=\"../artist/329e4yvIujISKGKz1BZZbO.html\">Farruko</a> - <a href=\"../track/2B4GHvToeLTOBB4QLzW3Ni.html\">Pepas</a></div></td>,\n",
       " <td class=\"text mp\"><div><a href=\"../artist/4q3ewBCX7sLwd24euuV69X.html\">Bad Bunny</a> - <a href=\"../track/5CzixCxDkRXX9mScCmah8O.html\">Un Ratito</a></div></td>,\n",
       " <td class=\"text mp\"><div><a href=\"../artist/716NhGYqD1jl2wI1Qkgq36.html\">Bizarrap</a> - <a href=\"../track/4hceSKjrkDTO0nMKFcb3sj.html\">Villano Antillano: Bzrp Music Sessions, Vol. 51</a></div></td>,\n",
       " <td class=\"text mp\"><div><a href=\"../artist/0qTZZWLzuD59Un5r1speHm.html\">Chris Jedi</a> - <a href=\"../track/6DoL1yYIwEW7VZMRaJhoJI.html\">La Llevo Al Cielo (Ft. Ñengo Flow)</a></div></td>,\n",
       " <td class=\"text mp\"><div><a href=\"../artist/6KImCVD70vtIoJWnq6nGn3.html\">Harry Styles</a> - <a href=\"../track/6UelLqGlWMcVH1E5c4H7lY.html\">Watermelon Sugar</a></div></td>,\n",
       " <td class=\"text mp\"><div><a href=\"../artist/768O5GliF0bqscyghggrbE.html\">Polimá Westcoast</a> - <a href=\"../track/6wtZPYBIXUvCpXwVjMCJBf.html\">ULTRA SOLO Remix</a></div></td>,\n",
       " <td class=\"text mp\"><div><a href=\"../artist/2WzaAvm2bBCf4pEhyuDgCY.html\">Ruth B.</a> - <a href=\"../track/2eAvDnpXP5W0cVtiI0PUxV.html\">Dandelions</a></div></td>,\n",
       " <td class=\"text mp\"><div><a href=\"../artist/77SW9BnxLY8rJ0RciFqkHh.html\">The Neighbourhood</a> - <a href=\"../track/2QjOHCTQ1Jl3zawyYOpxh6.html\">Sweater Weather</a></div></td>,\n",
       " <td class=\"text mp\"><div><a href=\"../artist/1RyvyyTE3xzB2ZywiAwp0i.html\">Future</a> - <a href=\"../track/59nOXPmaKlBfGMDeOVGrIK.html\">WAIT FOR U</a></div></td>,\n",
       " <td class=\"text mp\"><div><a href=\"../artist/4q3ewBCX7sLwd24euuV69X.html\">Bad Bunny</a> - <a href=\"../track/31i56LZnwE6uSu3exoHjtB.html\">Neverita</a></div></td>,\n",
       " <td class=\"text mp\"><div><a href=\"../artist/0tmwSHipWxN12fsoLcFU3B.html\">Manuel Turizo</a> - <a href=\"../track/5ww2BF9slyYgNOk37BlC4u.html\">La Bachata</a></div></td>,\n",
       " <td class=\"text mp\"><div><a href=\"../artist/2LRoIwlKmHjgvigdNGBHNo.html\">Feid</a> - <a href=\"../track/2z9YkcLojiOE7Eu2p9lPZR.html\">Normal</a></div></td>,\n",
       " <td class=\"text mp\"><div><a href=\"../artist/6eUKZXaKkcviH0Ku9w2n3V.html\">Ed Sheeran</a> - <a href=\"../track/6PQ88X9TkUIAUIZJHW2upE.html\">Bad Habits</a></div></td>,\n",
       " <td class=\"text mp\"><div><a href=\"../artist/3TVXtAsR1Inumwj472S9r4.html\">Drake</a> - <a href=\"../track/0oiv4E896TUTTeQU0cmIui.html\">Massive</a></div></td>,\n",
       " <td class=\"text mp\"><div><a href=\"../artist/2txHhyCwHjUEpJjWrEyqyX.html\">Tom Odell</a> - <a href=\"../track/7jtQIBanIiJOMS6RyCx6jZ.html\">Another Love</a></div></td>,\n",
       " <td class=\"text mp\"><div><a href=\"../artist/1Xyo4u8uXC1ZmMpatF05PJ.html\">The Weeknd</a> - <a href=\"../track/2LBqCSwhJGcFQeTHMVGwy3.html\">Die For You</a></div></td>,\n",
       " <td class=\"text mp\"><div><a href=\"../artist/4q3ewBCX7sLwd24euuV69X.html\">Bad Bunny</a> - <a href=\"../track/44XjoNvtwevktFKjvVe1vH.html\">Andrea</a></div></td>,\n",
       " <td class=\"text mp\"><div><a href=\"../artist/1McMsnEElThX1knmY4oliG.html\">Olivia Rodrigo</a> - <a href=\"../track/4ZtFanR9U6ndgddUvNcjcG.html\">good 4 u</a></div></td>,\n",
       " <td class=\"text mp\"><div><a href=\"../artist/5rGrDvrLOV2VV8SCFVGWlj.html\">Imanbek</a> - <a href=\"../track/7fZBQnc0zXwVybgCIrQQil.html\">Belly Dancer</a></div></td>,\n",
       " <td class=\"text mp\"><div><a href=\"../artist/1McMsnEElThX1knmY4oliG.html\">Olivia Rodrigo</a> - <a href=\"../track/5CZ40GBx1sQ9agT82CLQCT.html\">traitor</a></div></td>,\n",
       " <td class=\"text mp\"><div><a href=\"../artist/7FNnA9vBm6EKceENgCGRMb.html\">Anitta</a> - <a href=\"../track/3FkeNbs9Zeiqkr3WkbOiGp.html\">Envolver</a></div></td>,\n",
       " <td class=\"text mp\"><div><a href=\"../artist/6M2wZ9GZgrQXHCFfjv46we.html\">Dua Lipa</a> - <a href=\"../track/5nujrmhLynf4yMoMtj8AQF.html\">Levitating</a></div></td>,\n",
       " <td class=\"text mp\"><div><a href=\"../artist/53XhwfbYqKCa1cC15pYq2q.html\">Imagine Dragons</a> - <a href=\"../track/0HqZX76SFLDz2aW8aiqi7G.html\">Bones</a></div></td>,\n",
       " <td class=\"text mp\"><div><a href=\"../artist/7jVv8c5Fj3E9VhNjxT4snq.html\">Lil Nas X</a> - <a href=\"../track/0e8nrvls4Qqv5Rfa2UhqmO.html\">THATS WHAT I WANT</a></div></td>,\n",
       " <td class=\"text mp\"><div><a href=\"../artist/3Nrfpe0tUJi4K4DXYWgMUX.html\">BTS</a> - <a href=\"../track/10SRMwb9EuVS1K9rYsBfHQ.html\">Yet To Come</a></div></td>,\n",
       " <td class=\"text mp\"><div><a href=\"../artist/3SCOuAxngTC1yGjKMcIPEd.html\">Lasso</a> - <a href=\"../track/7gwT3HGL84vF7bgtwL1N88.html\">Ojos Marrones</a></div></td>,\n",
       " <td class=\"text mp\"><div><a href=\"../artist/1Xyo4u8uXC1ZmMpatF05PJ.html\">The Weeknd</a> - <a href=\"../track/5QO79kh1waicV47BqGRL3g.html\">Save Your Tears</a></div></td>,\n",
       " <td class=\"text mp\"><div><a href=\"../artist/0GM7qgcRCORpGnfcN2tCiB.html\">Tainy</a> - <a href=\"../track/4gzsuuZypVbxs0Af1LSZyB.html\">Lo Siento BB:/</a></div></td>,\n",
       " <td class=\"text mp\"><div><a href=\"../artist/4q3ewBCX7sLwd24euuV69X.html\">Bad Bunny</a> - <a href=\"../track/5kVZxyMY1gfdCLiChsfjn1.html\">Yo No Soy Celoso</a></div></td>,\n",
       " <td class=\"text mp\"><div><a href=\"../artist/4q3ewBCX7sLwd24euuV69X.html\">Bad Bunny</a> - <a href=\"../track/28GCbKgjlVD9eDmasGbe0T.html\">Me Fui de Vacaciones</a></div></td>,\n",
       " <td class=\"text mp\"><div><a href=\"../artist/7CajNmpbOovFoOoasH2HaY.html\">Calvin Harris</a> - <a href=\"../track/5lfWrciYtohtIMVDVZd0Rf.html\">Stay With Me</a></div></td>,\n",
       " <td class=\"text mp\"><div><a href=\"../artist/4q3ewBCX7sLwd24euuV69X.html\">Bad Bunny</a> - <a href=\"../track/6VrQTLzzuyGIYjUDe4kAZk.html\">Un Coco</a></div></td>,\n",
       " <td class=\"text mp\"><div><a href=\"../artist/46xBNx0j6cwY6sD9LgMTm1.html\">Rosa Linn</a> - <a href=\"../track/0QPRDC97rIQB3Jh3hrVJoH.html\">SNAP</a></div></td>,\n",
       " <td class=\"text mp\"><div><a href=\"../artist/3wcj11K77LjEY1PkEazffa.html\">Burna Boy</a> - <a href=\"../track/2PDgArI0p7UkeYgXWuqpmh.html\">Last Last</a></div></td>,\n",
       " <td class=\"text mp\"><div><a href=\"../artist/4dpARuHxo51G3z768sgnrY.html\">Adele</a> - <a href=\"../track/46IZ0fSY2mpAiktS3KOqds.html\">Easy On Me</a></div></td>,\n",
       " <td class=\"text mp\"><div><a href=\"../artist/1Xyo4u8uXC1ZmMpatF05PJ.html\">The Weeknd</a> - <a href=\"../track/1gm616Plq4ScqNi7TVkZ5N.html\">Call Out My Name</a></div></td>,\n",
       " <td class=\"text mp\"><div><a href=\"../artist/4q3ewBCX7sLwd24euuV69X.html\">Bad Bunny</a> - <a href=\"../track/4d4ZXH4dr5bYfgErHiZCX2.html\">Dos Mil 16</a></div></td>,\n",
       " <td class=\"text mp\"><div><a href=\"../artist/7Ln80lUS6He07XvHI8qqHH.html\">Arctic Monkeys</a> - <a href=\"../track/58ge6dfP91o9oXMzq3XkIS.html\">505</a></div></td>,\n",
       " <td class=\"text mp\"><div><a href=\"../artist/1McMsnEElThX1knmY4oliG.html\">Olivia Rodrigo</a> - <a href=\"../track/5wANPM4fQCJwkGd4rN57mH.html\">drivers license</a></div></td>,\n",
       " <td class=\"text mp\"><div><a href=\"../artist/1McMsnEElThX1knmY4oliG.html\">Olivia Rodrigo</a> - <a href=\"../track/6HU7h9RYOaPRFeh0R3UeAr.html\">deja vu</a></div></td>,\n",
       " <td class=\"text mp\"><div><a href=\"../artist/6qqNVTkY8uBg9cP3Jd7DAH.html\">Billie Eilish</a> - <a href=\"../track/4RVwu0g32PAqgUiJoXsdF8.html\">Happier Than Ever</a></div></td>,\n",
       " <td class=\"text mp\"><div><a href=\"../artist/06HL4z0CvFAxyc27GXpf02.html\">Taylor Swift</a> - <a href=\"../track/1R0a2iXumgCiFb7HEZ7gUE.html\">Don’t Blame Me</a></div></td>,\n",
       " <td class=\"text mp\"><div><a href=\"../artist/4q3ewBCX7sLwd24euuV69X.html\">Bad Bunny</a> - <a href=\"../track/2JPLbjOn0wPCngEot2STUS.html\">Yonaguni</a></div></td>,\n",
       " <td class=\"text mp\"><div><a href=\"../artist/2YOYua8FpudSEiB9s88IgQ.html\">Yung Gravy</a> - <a href=\"../track/4cacyP5c3PMlfnyjpg13xW.html\">Betty (Get Money)</a></div></td>,\n",
       " <td class=\"text mp\"><div><a href=\"../artist/4q3ewBCX7sLwd24euuV69X.html\">Bad Bunny</a> - <a href=\"../track/2uflssWlCaJ6CbTMOsUpNI.html\">Aguacero</a></div></td>,\n",
       " <td class=\"text mp\"><div><a href=\"../artist/768O5GliF0bqscyghggrbE.html\">Polimá Westcoast</a> - <a href=\"../track/0OTNHGKcqQbk51bOYe462Y.html\">ULTRA SOLO</a></div></td>,\n",
       " <td class=\"text mp\"><div><a href=\"../artist/1VwDG9aBflQupaFNjUru9A.html\">NAYEON</a> - <a href=\"../track/5rJ7bdPmr8nfmm2JQ8xHOz.html\">POP!</a></div></td>,\n",
       " <td class=\"text mp\"><div><a href=\"../artist/7cmuxPnXRJxwuYDHfbD8Eu.html\">Zé Felipe</a> - <a href=\"../track/5PZAbR6JHYYV9xp5gv0XES.html\">Bandido</a></div></td>,\n",
       " <td class=\"text mp\"><div><a href=\"../artist/5cj0lLjcoR7YOSnhnX0Po5.html\">Doja Cat</a> - <a href=\"../track/3DarAbFujv6eYNliUTyqtz.html\">Kiss Me More</a></div></td>,\n",
       " <td class=\"text mp\"><div><a href=\"../artist/2VSHKHBTiXWplO8lxcnUC9.html\">GAYLE</a> - <a href=\"../track/4fouWK6XVHhzl78KzQ1UjL.html\">abcdefu</a></div></td>,\n",
       " <td class=\"text mp\"><div><a href=\"../artist/2o5jDhtHVPhrJdv3cEQ99Z.html\">Tiësto</a> - <a href=\"../track/18asYwWugKjjsihZ0YvRxO.html\">The Motto</a></div></td>,\n",
       " <td class=\"text mp\"><div><a href=\"../artist/4gzpq5DPGxSnKTe4SA8HAU.html\">Coldplay</a> - <a href=\"../track/46HNZY1i7O6jwTA7Slo2PI.html\">My Universe</a></div></td>,\n",
       " <td class=\"text mp\"><div><a href=\"../artist/4fwuXg6XQHfdlOdmw36OHa.html\">Paloma Faith</a> - <a href=\"../track/62ke5zFUJN6RvtXZgVH0F8.html\">Only Love Can Hurt Like This</a></div></td>,\n",
       " <td class=\"text mp\"><div><a href=\"../artist/0JjPiLQNgAFaEkwoy56B1C.html\">L7NNON</a> - <a href=\"../track/5vC8UAOHeG95ehRzZChniB.html\">Ai Preto</a></div></td>,\n",
       " <td class=\"text mp\"><div><a href=\"../artist/5NGO30tJxFlKixkPSgXcFE.html\">The Police</a> - <a href=\"../track/1JSTJqkT5qHq8MDJnJbRE1.html\">Every Breath You Take</a></div></td>,\n",
       " <td class=\"text mp\"><div><a href=\"../artist/246dkjvS1zLTtiykXe5h60.html\">Post Malone</a> - <a href=\"../track/32vE1nuG8T9c8bhmZdRY6d.html\">Cooped Up</a></div></td>,\n",
       " <td class=\"text mp\"><div><a href=\"../artist/6KImCVD70vtIoJWnq6nGn3.html\">Harry Styles</a> - <a href=\"../track/5LYMamLv12UPbemOaTPyeV.html\">Music For a Sushi Restaurant</a></div></td>,\n",
       " <td class=\"text mp\"><div><a href=\"../artist/3qm84nBOXUEQ2vnTfUTTFC.html\">Guns N' Roses</a> - <a href=\"../track/7o2CTH4ctstm8TNelqjb51.html\">Sweet Child O' Mine</a></div></td>,\n",
       " <td class=\"text mp\"><div><a href=\"../artist/6VuMaDnrHyPL1p4EHjYLi7.html\">Charlie Puth</a> - <a href=\"../track/3AVXwaOGCEL8cmBecfcsFJ.html\">Light Switch</a></div></td>,\n",
       " <td class=\"text mp\"><div><a href=\"../artist/3rWZHrfrsPBxVy692yAIxF.html\">WILLOW</a> - <a href=\"../track/0y60itmpH0aPKsFiGxmtnh.html\">Wait a Minute!</a></div></td>,\n",
       " <td class=\"text mp\"><div><a href=\"../artist/7dGJo4pcD2V6oG8kP0tJRR.html\">Eminem</a> - <a href=\"../track/7lQ8MOhq6IN2w8EYcFNSUk.html\">Without Me</a></div></td>,\n",
       " <td class=\"text mp\"><div><a href=\"../artist/1Cs0zKBU1kc0i8ypK3B9ai.html\">David Guetta</a> - <a href=\"../track/1WCEAGGRD066z2Q89ObXTq.html\">Crazy What Love Can Do</a></div></td>,\n",
       " <td class=\"text mp\"><div><a href=\"../artist/2CKOmarVWvWqkNWUatHCex.html\">Ana Castela</a> - <a href=\"../track/7AwVSKaQxpidrtYBerkHKk.html\">Pipoco</a></div></td>,\n",
       " <td class=\"text mp\"><div><a href=\"../artist/7CajNmpbOovFoOoasH2HaY.html\">Calvin Harris</a> - <a href=\"../track/7fYRg3CEbk6rNCuzNzMT06.html\">Potion</a></div></td>,\n",
       " <td class=\"text mp\"><div><a href=\"../artist/22wbnEMDvgVIAGdFeek6ET.html\">Benson Boone</a> - <a href=\"../track/1ei3hzQmrgealgRKFxIcWn.html\">In The Stars</a></div></td>,\n",
       " <td class=\"text mp\"><div><a href=\"../artist/4Q6nIcaBED8qUel8bBx6Cr.html\">Jax Jones</a> - <a href=\"../track/3sa06xVNmLLYIxdNNmVQN8.html\">Where Did You Go?</a></div></td>,\n",
       " <td class=\"text mp\"><div><a href=\"../artist/53XhwfbYqKCa1cC15pYq2q.html\">Imagine Dragons</a> - <a href=\"../track/0pqnGHJpmpxLKifKRmU6WP.html\">Believer</a></div></td>,\n",
       " <td class=\"text mp\"><div><a href=\"../artist/1Xyo4u8uXC1ZmMpatF05PJ.html\">The Weeknd</a> - <a href=\"../track/5aAx2yezTd8zXrkmtKl66Z.html\">Starboy</a></div></td>,\n",
       " <td class=\"text mp\"><div><a href=\"../artist/4q3ewBCX7sLwd24euuV69X.html\">Bad Bunny</a> - <a href=\"../track/71wFwRo8xGc4lrcyKwsvba.html\">Callaita</a></div></td>,\n",
       " <td class=\"text mp\"><div><a href=\"../artist/7ujbuq6hAjLSf7cGr6au0b.html\">MC Tairon</a> - <a href=\"../track/0i4UV3HjjvsUuV3BajEXoD.html\">Baile no Morro</a></div></td>,\n",
       " <td class=\"text mp\"><div><a href=\"../artist/1dfeR4HaWDbWqFHLkxsg1d.html\">Queen</a> - <a href=\"../track/4u7EnebtmKWzUH433cf5Qv.html\">Bohemian Rhapsody - Remastered 2011</a></div></td>,\n",
       " <td class=\"text mp\"><div><a href=\"../artist/0HxX6imltnNXJyQhu4nsiO.html\">LF SYSTEM</a> - <a href=\"../track/40SBS57su9xLiE1WqkXOVr.html\">Afraid To Feel</a></div></td>,\n",
       " <td class=\"text mp\"><div><a href=\"../artist/6qqNVTkY8uBg9cP3Jd7DAH.html\">Billie Eilish</a> - <a href=\"../track/0u2P5u6lvoDfwTYjAADbn4.html\">lovely</a></div></td>,\n",
       " <td class=\"text mp\"><div><a href=\"../artist/4bthk9UfsYUYdcFyqxmSUU.html\">Tears For Fears</a> - <a href=\"../track/4RvWPyQ5RL0ao9LPZeSouE.html\">Everybody Wants To Rule The World</a></div></td>,\n",
       " <td class=\"text mp\"><div><a href=\"../artist/4q3ewBCX7sLwd24euuV69X.html\">Bad Bunny</a> - <a href=\"../track/0E0DRHf5PfMeor0ZCwB3oT.html\">Otro Atardecer</a></div></td>,\n",
       " <td class=\"text mp\"><div><a href=\"../artist/027TpXKGwdXP7iwbjUSpV8.html\">The Walters</a> - <a href=\"../track/4SqWKzw0CbA05TGszDgMlc.html\">I Love You So</a></div></td>,\n",
       " <td class=\"text mp\"><div><a href=\"../artist/4gzpq5DPGxSnKTe4SA8HAU.html\">Coldplay</a> - <a href=\"../track/3AJwUDP919kvQ9QcozQPxg.html\">Yellow</a></div></td>,\n",
       " <td class=\"text mp\"><div><a href=\"../artist/1Xyo4u8uXC1ZmMpatF05PJ.html\">The Weeknd</a> - <a href=\"../track/1oFAF1hdPOickyHgbuRjyX.html\">Save Your Tears (Remix)</a></div></td>,\n",
       " <td class=\"text mp\"><div><a href=\"../artist/20JZFwl6HVl6yg8a4H3ZqK.html\">Panic! At The Disco</a> - <a href=\"../track/2DgdHcjWmO3qd50RzuBLgZ.html\">House Of Memories</a></div></td>,\n",
       " <td class=\"text mp\"><div><a href=\"../artist/5H1nN1SzW0qNeUEZvuXjAj.html\">Danny Ocean</a> - <a href=\"../track/1UdzJEpgJxtuXAlCOvD4S0.html\">Fuera del mercado</a></div></td>,\n",
       " <td class=\"text mp\"><div><a href=\"../artist/0Q8NcsJwoCbZOHHW63su5S.html\">Mora</a> - <a href=\"../track/5jt25aFjW2kNoBqaEVaz5W.html\">LA INOCENTE</a></div></td>,\n",
       " <td class=\"text mp\"><div><a href=\"../artist/0pWwt5vGNzezEhfAcc420Y.html\">Mr.Kitty</a> - <a href=\"../track/0zCgWGmDF0aih5qexATyBn.html\">After Dark</a></div></td>,\n",
       " <td class=\"text mp\"><div><a href=\"../artist/4AK6F7OLvEQ5QYCBNiQWHq.html\">One Direction</a> - <a href=\"../track/5O2P9iiztwhomNh8xkR9lJ.html\">Night Changes</a></div></td>,\n",
       " <td class=\"text mp\"><div><a href=\"../artist/1Xyo4u8uXC1ZmMpatF05PJ.html\">The Weeknd</a> - <a href=\"../track/56d6kYZhfhzpoC3s1dRU2V.html\">I Was Never There</a></div></td>,\n",
       " <td class=\"text mp\"><div><a href=\"../artist/64KEffDW9EtZ1y2vBYgq8T.html\">Marshmello</a> - <a href=\"../track/10xV5l9nhLvFpR8mqzs0bL.html\">Numb</a></div></td>,\n",
       " <td class=\"text mp\"><div><a href=\"../artist/2CuzDPkRD6BJBvdWqCrt2I.html\">Musical Youth</a> - <a href=\"../track/1BkY0N8ChFk2mdLbAUu8ZK.html\">Pass The Dutchie</a></div></td>,\n",
       " <td class=\"text mp\"><div><a href=\"../artist/6KImCVD70vtIoJWnq6nGn3.html\">Harry Styles</a> - <a href=\"../track/6uvh0In7u1Xn4HgxOfAn8O.html\">Matilda</a></div></td>,\n",
       " <td class=\"text mp\"><div><a href=\"../artist/4GNC7GD6oZMSxPGyXy4MNB.html\">Lewis Capaldi</a> - <a href=\"../track/7qEHsqek33rTcFNT9PFqLf.html\">Someone You Loved</a></div></td>,\n",
       " <td class=\"text mp\"><div><a href=\"../artist/3bWIy9AUrQdiNeS62Bp3OP.html\">Shae Gill</a> - <a href=\"../track/7lvDsmTRXFE3dK4OjvRiWB.html\">Pasoori</a></div></td>,\n",
       " <td class=\"text mp\"><div><a href=\"../artist/2W8yFh0Ga6Yf3jiayVxwkE.html\">Dove Cameron</a> - <a href=\"../track/59CfNbkERJ3NoTXDvoURjj.html\">Boyfriend</a></div></td>,\n",
       " <td class=\"text mp\"><div><a href=\"../artist/21451j1KhjAiaYKflxBjr1.html\">Zion &amp; Lennox</a> - <a href=\"../track/5gflgO9EPbIBf16n5TKnQS.html\">Yo Voy</a></div></td>,\n",
       " <td class=\"text mp\"><div><a href=\"../artist/6M2wZ9GZgrQXHCFfjv46we.html\">Dua Lipa</a> - <a href=\"../track/3PfIrDoz19wz7qK7tYeu62.html\">Don't Start Now</a></div></td>,\n",
       " <td class=\"text mp\"><div><a href=\"../artist/181bsRPaVXVlUKXrxwZfHK.html\">Megan Thee Stallion</a> - <a href=\"../track/7mFj0LlWtEJaEigguaWqYh.html\">Sweetest Pie</a></div></td>,\n",
       " <td class=\"text mp\"><div><a href=\"../artist/7j6DKwmjbxvpQO8h914uEz.html\">Ryan Castro</a> - <a href=\"../track/2rDZhKnPaPG054ExZ6nXUS.html\">Jordan</a></div></td>,\n",
       " <td class=\"text mp\"><div><a href=\"../artist/3Nrfpe0tUJi4K4DXYWgMUX.html\">BTS</a> - <a href=\"../track/69xohKu8C1fsflYAiSNbwM.html\">Run BTS</a></div></td>,\n",
       " <td class=\"text mp\"><div><a href=\"../artist/0C0XlULifJtAgn6ZNCW2eu.html\">The Killers</a> - <a href=\"../track/003vvx7Niy0yvhvHt4a68B.html\">Mr. Brightside</a></div></td>,\n",
       " <td class=\"text mp\"><div><a href=\"../artist/6l3HvQ5sa6mXTsMTB19rO5.html\">J. Cole</a> - <a href=\"../track/62vpWI1CHwFy7tMIcSStl8.html\">No Role Modelz</a></div></td>,\n",
       " <td class=\"text mp\"><div><a href=\"../artist/1uNFoZAHBGtllmzznpCI3s.html\">Justin Bieber</a> - <a href=\"../track/4iJyoBOLtHqaGxP12qzhQI.html\">Peaches</a></div></td>,\n",
       " <td class=\"text mp\"><div><a href=\"../artist/4q3ewBCX7sLwd24euuV69X.html\">Bad Bunny</a> - <a href=\"../track/4MzXwWMhyBbmu6hOcLVD49.html\">DÁKITI</a></div></td>,\n",
       " <td class=\"text mp\"><div><a href=\"../artist/04gDigrS5kc9YWfZHwBETP.html\">Maroon 5</a> - <a href=\"../track/1XGmzt0PVuFgQYYnV2It7A.html\">Payphone</a></div></td>,\n",
       " <td class=\"text mp\"><div><a href=\"../artist/0lAWpj5szCSwM4rUMHYmrr.html\">Måneskin</a> - <a href=\"../track/3Wrjm47oTz2sjIgck11l5e.html\">Beggin'</a></div></td>,\n",
       " <td class=\"text mp\"><div><a href=\"../artist/6olE6TJLqED3rqDCT0FyPh.html\">Nirvana</a> - <a href=\"../track/0gucTLf7trAf37Ua1uAyAu.html\">Smells Like Teen Spirit - Remastered</a></div></td>,\n",
       " <td class=\"text mp\"><div><a href=\"../artist/246dkjvS1zLTtiykXe5h60.html\">Post Malone</a> - <a href=\"../track/0RiRZpuVRbi7oqRdSMwhQY.html\">Sunflower - Spider-Man: Into the Spider-Verse</a></div></td>,\n",
       " <td class=\"text mp\"><div><a href=\"../artist/1vyhD5VmyZ7KMfW5gqLgo5.html\">J Balvin</a> - <a href=\"../track/0fea68AdmYNygeTGI4RC18.html\">LA CANCIÓN</a></div></td>,\n",
       " <td class=\"text mp\"><div><a href=\"../artist/3Nrfpe0tUJi4K4DXYWgMUX.html\">BTS</a> - <a href=\"../track/4saklk6nie3yiGePpBwUoc.html\">Dynamite</a></div></td>,\n",
       " <td class=\"text mp\"><div><a href=\"../artist/716NhGYqD1jl2wI1Qkgq36.html\">Bizarrap</a> - <a href=\"../track/2Gq636OOGgxCTqEuzCZhsa.html\">Tiago PZK: Bzrp Music Sessions, Vol. 48</a></div></td>,\n",
       " <td class=\"text mp\"><div><a href=\"../artist/06HL4z0CvFAxyc27GXpf02.html\">Taylor Swift</a> - <a href=\"../track/1u8c2t2Cy7UBoG4ArRcF5g.html\">Blank Space</a></div></td>,\n",
       " <td class=\"text mp\"><div><a href=\"../artist/0lAWpj5szCSwM4rUMHYmrr.html\">Måneskin</a> - <a href=\"../track/63WuQOXohQIxOxIFA2K7bR.html\">SUPERMODEL</a></div></td>,\n",
       " <td class=\"text mp\"><div><a href=\"../artist/1Xyo4u8uXC1ZmMpatF05PJ.html\">The Weeknd</a> - <a href=\"../track/25khomWgBVamSdKw7hzm3l.html\">The Hills</a></div></td>,\n",
       " <td class=\"text mp\"><div><a href=\"../artist/7dGJo4pcD2V6oG8kP0tJRR.html\">Eminem</a> - <a href=\"../track/3yfqSUWxFvZELEM4PmlwIR.html\">The Real Slim Shady</a></div></td>,\n",
       " <td class=\"text mp\"><div><a href=\"../artist/5cj0lLjcoR7YOSnhnX0Po5.html\">Doja Cat</a> - <a href=\"../track/3Vi5XqYrmQgOYBajMWSvCi.html\">Need To Know</a></div></td>,\n",
       " <td class=\"text mp\"><div><a href=\"../artist/10exVja0key0uqUkk6LJRT.html\">Vance Joy</a> - <a href=\"../track/7yq4Qj7cqayVTp3FF9CWbm.html\">Riptide</a></div></td>,\n",
       " <td class=\"text mp\"><div><a href=\"../artist/3TVXtAsR1Inumwj472S9r4.html\">Drake</a> - <a href=\"../track/4rmVZajAF7PkrCagGPHbqa.html\">Sticky</a></div></td>,\n",
       " <td class=\"text mp\"><div><a href=\"../artist/4q3ewBCX7sLwd24euuV69X.html\">Bad Bunny</a> - <a href=\"../track/2NMjggapJcXXM7WccGEBUO.html\">Enséñame a Bailar</a></div></td>,\n",
       " <td class=\"text mp\"><div><a href=\"../artist/7jVv8c5Fj3E9VhNjxT4snq.html\">Lil Nas X</a> - <a href=\"../track/67BtfxlNbhBmCDR2L2l8qd.html\">MONTERO (Call Me By Your Name)</a></div></td>,\n",
       " <td class=\"text mp\"><div><a href=\"../artist/6eUKZXaKkcviH0Ku9w2n3V.html\">Ed Sheeran</a> - <a href=\"../track/7qiZfU4dY1lWllzX7mPBI3.html\">Shape of You</a></div></td>,\n",
       " <td class=\"text mp\"><div><a href=\"../artist/4VMYDCV2IEDYJArk749S6m.html\">Daddy Yankee</a> - <a href=\"../track/48AJSd42lXpicsGqcgopof.html\">X ÚLTIMA VEZ</a></div></td>,\n",
       " <td class=\"text mp\"><div><a href=\"../artist/6QrQ7OrISRYIfS5mtacaw2.html\">Jaymes Young</a> - <a href=\"../track/1SOClUWhOi8vHZYMz3GluK.html\">Infinity</a></div></td>,\n",
       " <td class=\"text mp\"><div><a href=\"../artist/5Pwc4xIPtQLFEnJriah9YJ.html\">OneRepublic</a> - <a href=\"../track/2tpWsVSb9UEmDRxAl1zhX1.html\">Counting Stars</a></div></td>,\n",
       " <td class=\"text mp\"><div><a href=\"../artist/19i93sA0D7yS9dYoVNBqAA.html\">tha Supreme</a> - <a href=\"../track/3gUzi41YOt3VExeyHSLsMj.html\">s!r!</a></div></td>,\n",
       " <td class=\"text mp\"><div><a href=\"../artist/4pnp4w9g30yLfVIAFnZMRd.html\">ACRAZE</a> - <a href=\"../track/20on25jryn53hWghthWWW3.html\">Do It To It</a></div></td>,\n",
       " <td class=\"text mp\"><div><a href=\"../artist/46pWGuE3dSwY3bMMXGBvVS.html\">Rema</a> - <a href=\"../track/3BnDvpeuGOj21Ir2aVEtQo.html\">Calm Down</a></div></td>,\n",
       " <td class=\"text mp\"><div><a href=\"../artist/1HY2Jd0NmPuamShAr6KMms.html\">Lady Gaga</a> - <a href=\"../track/1c2hJSwcCfoPEw1su83Sw0.html\">Hold My Hand</a></div></td>,\n",
       " <td class=\"text mp\"><div><a href=\"../artist/246dkjvS1zLTtiykXe5h60.html\">Post Malone</a> - <a href=\"../track/21jGcNKet2qwijlDFuPiPb.html\">Circles</a></div></td>,\n",
       " <td class=\"text mp\"><div><a href=\"../artist/56oDRnqbIiwx4mymNEv7dS.html\">Lizzo</a> - <a href=\"../track/13Irp51zj01BZu2XtDrnAg.html\">2 Be Loved (Am I Ready)</a></div></td>,\n",
       " <td class=\"text mp\"><div><a href=\"../artist/57vWImR43h4CaDao012Ofp.html\">Steve Lacy</a> - <a href=\"../track/37y7iDayfwm3WXn5BiAoRk.html\">Dark Red</a></div></td>,\n",
       " <td class=\"text mp\"><div><a href=\"../artist/4q3ewBCX7sLwd24euuV69X.html\">Bad Bunny</a> - <a href=\"../track/18HOjcvTVV7W8YzBuOsAPS.html\">Un Verano Sin Ti</a></div></td>,\n",
       " <td class=\"text mp\"><div><a href=\"../artist/49EE6lVLgU8sp7dFgPshgM.html\">La Adictiva Banda San José de Mesillas</a> - <a href=\"../track/5kpxVMDvYGRmNqawPqDTYR.html\">JGL</a></div></td>,\n",
       " <td class=\"text mp\"><div><a href=\"../artist/3y24n3XhZ96wgwRXjvS17T.html\">Coolio</a> - <a href=\"../track/1DIXPcTDzTj8ZMHt3PDt8p.html\">Gangsta's Paradise</a></div></td>,\n",
       " <td class=\"text mp\"><div><a href=\"../artist/1mcTU81TzQhprhouKaTkpq.html\">Rauw Alejandro</a> - <a href=\"../track/5RwV8BvLfX5injfqYodke9.html\">Todo De Ti</a></div></td>,\n",
       " <td class=\"text mp\"><div><a href=\"../artist/37mqXU98U5GmH5ZDtlHM1c.html\">Matheus Fernandes</a> - <a href=\"../track/2qmG7dokbGpDGD0T5wORWt.html\">Balanço da Rede</a></div></td>,\n",
       " <td class=\"text mp\"><div><a href=\"../artist/5WUlDfRSoLAfcVSX1WnrxN.html\">Sia</a> - <a href=\"../track/2J2Z1SkXYghSajLibnQHOa.html\">Unstoppable</a></div></td>,\n",
       " <td class=\"text mp\"><div><a href=\"../artist/3WGpXCj9YhhfX11TToZcXP.html\">Troye Sivan</a> - <a href=\"../track/2m6Ko3CY1qXNNja8AlugNc.html\">Angel Baby</a></div></td>,\n",
       " <td class=\"text mp\"><div><a href=\"../artist/7MiDcPa6UiV3In7lIM71IN.html\">Gusttavo Lima</a> - <a href=\"../track/6gEOM9IEBzvTdbwNrSkBdC.html\">Fala Mal de Mim - Ao Vivo</a></div></td>,\n",
       " <td class=\"text mp\"><div><a href=\"../artist/0du5cEVh5yTK9QJze8zA0C.html\">Bruno Mars</a> - <a href=\"../track/5g7sDjBhZ4I3gcFIpkrLuI.html\">Locked Out Of Heaven</a></div></td>,\n",
       " <td class=\"text mp\"><div><a href=\"../artist/3TVXtAsR1Inumwj472S9r4.html\">Drake</a> - <a href=\"../track/1xznGGDReH1oQq0xzbwXa3.html\">One Dance</a></div></td>,\n",
       " <td class=\"text mp\"><div><a href=\"../artist/7vXDAI8JwjW531ouMGbfcp.html\">TINI</a> - <a href=\"../track/3AbNNvo2OmyeDMvRBgf9vk.html\">La Loto</a></div></td>,\n",
       " <td class=\"text mp\"><div><a href=\"../artist/6eUKZXaKkcviH0Ku9w2n3V.html\">Ed Sheeran</a> - <a href=\"../track/0tgVpDi06FyKpA1z0VMD4v.html\">Perfect</a></div></td>,\n",
       " <td class=\"text mp\"><div><a href=\"../artist/3CIIaeZuFYrAD6PRVyuO4U.html\">Felipe Amorim</a> - <a href=\"../track/4QWumyD2uwiePBBha9XBHI.html\">No Ouvidinho</a></div></td>,\n",
       " <td class=\"text mp\"><div><a href=\"../artist/1vCWHaC5f2uS3yhpwWbIA6.html\">Avicii</a> - <a href=\"../track/6g1NlCpW7fgqDnWbCCDrHl.html\">Wake Me Up</a></div></td>,\n",
       " <td class=\"text mp\"><div><a href=\"../artist/6KImCVD70vtIoJWnq6nGn3.html\">Harry Styles</a> - <a href=\"../track/51Zw1cKDgkad0CXv23HCMU.html\">Daylight</a></div></td>,\n",
       " <td class=\"text mp\"><div><a href=\"../artist/1QAJqy2dA3ihHBFIHRphZj.html\">Cigarettes After Sex</a> - <a href=\"../track/3AVrVz5rK8Hrqo9YGiVGN5.html\">Apocalypse</a></div></td>,\n",
       " <td class=\"text mp\"><div><a href=\"../artist/0b1sIQumIAsNbqAoIClSpy.html\">j-hope</a> - <a href=\"../track/70XnKsO3UnIT4FnEwChQXx.html\">= (Equal Sign)</a></div></td>,\n",
       " <td class=\"text mp\"><div><a href=\"../artist/7c53ZFyajVMTo08HmvoB6b.html\">zzoilo</a> - <a href=\"../track/5TMLavqGRKNxgzMBrVpC9R.html\">Mon Amour - Remix</a></div></td>,\n",
       " <td class=\"text mp\"><div><a href=\"../artist/50sIhX3HytFEwQXZJLUZQE.html\">Alejo</a> - <a href=\"../track/4srcMdbm2qzVG98tJajHxp.html\">Pantysito</a></div></td>,\n",
       " <td class=\"text mp\"><div><a href=\"../artist/0haZhu4fFKt0Ag94kZDiz2.html\">Sofía Reyes</a> - <a href=\"../track/4QtiVmuA88tPQiCOHZuQ5b.html\">1, 2, 3</a></div></td>,\n",
       " <td class=\"text mp\"><div><a href=\"../artist/2NjfBq1NflQcKSeiDooVjY.html\">Tones and I</a> - <a href=\"../track/1rgnBhdG2JDFTbYkYRZAku.html\">Dance Monkey</a></div></td>,\n",
       " <td class=\"text mp\"><div><a href=\"../artist/07YUOmWljBTXwIseAUd9TW.html\">Sebastian Yatra</a> - <a href=\"../track/6ylDpki1VpIsc525KC1ojF.html\">Tacones Rojos</a></div></td>,\n",
       " <td class=\"text mp\"><div><a href=\"../artist/0rvjqX7ttXeg3mTy8Xscbt.html\">Journey</a> - <a href=\"../track/4bHsxqR3GMrXTxEPLuK5ue.html\">Don't Stop Believin'</a></div></td>,\n",
       " <td class=\"text mp\"><div><a href=\"../artist/4Uc8Dsxct0oMqx0P6i60ea.html\">Conan Gray</a> - <a href=\"../track/4xqrdfXkTW4T0RauPLv3WA.html\">Heather</a></div></td>,\n",
       " <td class=\"text mp\"><div><a href=\"../artist/45dkTj5sMRSjrmBSBeiHym.html\">Tate McRae</a> - <a href=\"../track/0IuVhCflrQPMGRrOyoY5RW.html\">she's all i wanna be</a></div></td>,\n",
       " <td class=\"text mp\"><div><a href=\"../artist/2jzc5TC5TVFLXQlBNiIUzE.html\">a-ha</a> - <a href=\"../track/2WfaOiMkCvy7F5fcp2zZ8L.html\">Take on Me</a></div></td>]"
      ]
     },
     "execution_count": 56,
     "metadata": {},
     "output_type": "execute_result"
    }
   ],
   "source": [
    "b = soup.select('tr td.text.mp')\n",
    "b"
   ]
  },
  {
   "cell_type": "code",
   "execution_count": 60,
   "id": "bd5b4cae",
   "metadata": {},
   "outputs": [
    {
     "name": "stdout",
     "output_type": "stream",
     "text": [
      "['Quevedo: Bzrp Music Sessions, Vol. 52', 'As It Was', 'Running Up That Hill (A Deal With God)', 'Me Porto Bonito', 'Tití Me Preguntó', 'Glimpse of Us', 'Ojitos Lindos', 'Efecto', 'Moscow Mule', 'Heat Waves', 'Left and Right (Feat. Jung Kook of BTS)', 'About Damn Time', 'PROVENZA', 'Te Felicito', \"I Ain't Worried\", 'Tarot', 'Party', 'Stay', 'Cold Heart - PNAU Remix', 'Jimmy Cooks', 'Bam Bam', 'Late Night Talking', 'Bad Habit', 'First Class', 'I Like You (A Happier Song)', 'Master Of Puppets', 'MORE', 'Arson', 'One Kiss', 'Vegas (From the Original Motion Picture Soundtrack ELVIS)', 'Sunroof', 'Después de la Playa', 'BREAK MY SOUL', 'Una Noche en Medellín', 'Layla', 'Ghost', 'MIDDLE OF THE NIGHT', 'La Corriente', 'MAMIII', 'Where Are You Now', 'Until I Found You', 'Shivers', 'Blinding Lights', 'Desesperados', 'Enemy', 'Woman', 'INDUSTRY BABY', 'Ferrari', 'Pepas', 'Un Ratito', 'Villano Antillano: Bzrp Music Sessions, Vol. 51', 'La Llevo Al Cielo (Ft. Ñengo Flow)', 'Watermelon Sugar', 'ULTRA SOLO Remix', 'Dandelions', 'Sweater Weather', 'WAIT FOR U', 'Neverita', 'La Bachata', 'Normal', 'Bad Habits', 'Massive', 'Another Love', 'Die For You', 'Andrea', 'good 4 u', 'Belly Dancer', 'traitor', 'Envolver', 'Levitating', 'Bones', 'THATS WHAT I WANT', 'Yet To Come', 'Ojos Marrones', 'Save Your Tears', 'Lo Siento BB:/', 'Yo No Soy Celoso', 'Me Fui de Vacaciones', 'Stay With Me', 'Un Coco', 'SNAP', 'Last Last', 'Easy On Me', 'Call Out My Name', 'Dos Mil 16', '505', 'drivers license', 'deja vu', 'Happier Than Ever', 'Don’t Blame Me', 'Yonaguni', 'Betty (Get Money)', 'Aguacero', 'ULTRA SOLO', 'POP!', 'Bandido', 'Kiss Me More', 'abcdefu', 'The Motto', 'My Universe', 'Only Love Can Hurt Like This', 'Ai Preto', 'Every Breath You Take', 'Cooped Up', 'Music For a Sushi Restaurant', \"Sweet Child O' Mine\", 'Light Switch', 'Wait a Minute!', 'Without Me', 'Crazy What Love Can Do', 'Pipoco', 'Potion', 'In The Stars', 'Where Did You Go?', 'Believer', 'Starboy', 'Callaita', 'Baile no Morro', 'Bohemian Rhapsody - Remastered 2011', 'Afraid To Feel', 'lovely', 'Everybody Wants To Rule The World', 'Otro Atardecer', 'I Love You So', 'Yellow', 'Save Your Tears (Remix)', 'House Of Memories', 'Fuera del mercado', 'LA INOCENTE', 'After Dark', 'Night Changes', 'I Was Never There', 'Numb', 'Pass The Dutchie', 'Matilda', 'Someone You Loved', 'Pasoori', 'Boyfriend', 'Yo Voy', \"Don't Start Now\", 'Sweetest Pie', 'Jordan', 'Run BTS', 'Mr. Brightside', 'No Role Modelz', 'Peaches', 'DÁKITI', 'Payphone', \"Beggin'\", 'Smells Like Teen Spirit - Remastered', 'Sunflower - Spider-Man: Into the Spider-Verse', 'LA CANCIÓN', 'Dynamite', 'Tiago PZK: Bzrp Music Sessions, Vol. 48', 'Blank Space', 'SUPERMODEL', 'The Hills', 'The Real Slim Shady', 'Need To Know', 'Riptide', 'Sticky', 'Enséñame a Bailar', 'MONTERO (Call Me By Your Name)', 'Shape of You', 'X ÚLTIMA VEZ', 'Infinity', 'Counting Stars', 's!r!', 'Do It To It', 'Calm Down', 'Hold My Hand', 'Circles', '2 Be Loved (Am I Ready)', 'Dark Red', 'Un Verano Sin Ti', 'JGL', \"Gangsta's Paradise\", 'Todo De Ti', 'Balanço da Rede', 'Unstoppable', 'Angel Baby', 'Fala Mal de Mim - Ao Vivo', 'Locked Out Of Heaven', 'One Dance', 'La Loto', 'Perfect', 'No Ouvidinho', 'Wake Me Up', 'Daylight', 'Apocalypse', '= (Equal Sign)', 'Mon Amour - Remix', 'Pantysito', '1, 2, 3', 'Dance Monkey', 'Tacones Rojos', \"Don't Stop Believin'\", 'Heather', \"she's all i wanna be\", 'Take on Me']\n",
      "['Bizarrap', 'Harry Styles', 'Kate Bush', 'Bad Bunny', 'Bad Bunny', 'Joji', 'Bad Bunny', 'Bad Bunny', 'Bad Bunny', 'Glass Animals', 'Charlie Puth', 'Lizzo', 'KAROL G', 'Shakira', 'OneRepublic', 'Bad Bunny', 'Bad Bunny', 'The Kid LAROI', 'Elton John', 'Drake', 'Camila Cabello', 'Harry Styles', 'Steve Lacy', 'Jack Harlow', 'Post Malone', 'Metallica', 'j-hope', 'j-hope', 'Calvin Harris', 'Doja Cat', 'Nicky Youre', 'Bad Bunny', 'Beyoncé', 'Cris Mj', 'DJ Robin', 'Justin Bieber', 'Elley Duhé', 'Bad Bunny', 'Becky G', 'Lost Frequencies', 'Stephen Sanchez', 'Ed Sheeran', 'The Weeknd', 'Rauw Alejandro', 'Imagine Dragons', 'Doja Cat', 'Lil Nas X', 'James Hype', 'Farruko', 'Bad Bunny', 'Bizarrap', 'Chris Jedi', 'Harry Styles', 'Polimá Westcoast', 'Ruth B.', 'The Neighbourhood', 'Future', 'Bad Bunny', 'Manuel Turizo', 'Feid', 'Ed Sheeran', 'Drake', 'Tom Odell', 'The Weeknd', 'Bad Bunny', 'Olivia Rodrigo', 'Imanbek', 'Olivia Rodrigo', 'Anitta', 'Dua Lipa', 'Imagine Dragons', 'Lil Nas X', 'BTS', 'Lasso', 'The Weeknd', 'Tainy', 'Bad Bunny', 'Bad Bunny', 'Calvin Harris', 'Bad Bunny', 'Rosa Linn', 'Burna Boy', 'Adele', 'The Weeknd', 'Bad Bunny', 'Arctic Monkeys', 'Olivia Rodrigo', 'Olivia Rodrigo', 'Billie Eilish', 'Taylor Swift', 'Bad Bunny', 'Yung Gravy', 'Bad Bunny', 'Polimá Westcoast', 'NAYEON', 'Zé Felipe', 'Doja Cat', 'GAYLE', 'Tiësto', 'Coldplay', 'Paloma Faith', 'L7NNON', 'The Police', 'Post Malone', 'Harry Styles', \"Guns N' Roses\", 'Charlie Puth', 'WILLOW', 'Eminem', 'David Guetta', 'Ana Castela', 'Calvin Harris', 'Benson Boone', 'Jax Jones', 'Imagine Dragons', 'The Weeknd', 'Bad Bunny', 'MC Tairon', 'Queen', 'LF SYSTEM', 'Billie Eilish', 'Tears For Fears', 'Bad Bunny', 'The Walters', 'Coldplay', 'The Weeknd', 'Panic! At The Disco', 'Danny Ocean', 'Mora', 'Mr.Kitty', 'One Direction', 'The Weeknd', 'Marshmello', 'Musical Youth', 'Harry Styles', 'Lewis Capaldi', 'Shae Gill', 'Dove Cameron', 'Zion & Lennox', 'Dua Lipa', 'Megan Thee Stallion', 'Ryan Castro', 'BTS', 'The Killers', 'J. Cole', 'Justin Bieber', 'Bad Bunny', 'Maroon 5', 'Måneskin', 'Nirvana', 'Post Malone', 'J Balvin', 'BTS', 'Bizarrap', 'Taylor Swift', 'Måneskin', 'The Weeknd', 'Eminem', 'Doja Cat', 'Vance Joy', 'Drake', 'Bad Bunny', 'Lil Nas X', 'Ed Sheeran', 'Daddy Yankee', 'Jaymes Young', 'OneRepublic', 'tha Supreme', 'ACRAZE', 'Rema', 'Lady Gaga', 'Post Malone', 'Lizzo', 'Steve Lacy', 'Bad Bunny', 'La Adictiva Banda San José de Mesillas', 'Coolio', 'Rauw Alejandro', 'Matheus Fernandes', 'Sia', 'Troye Sivan', 'Gusttavo Lima', 'Bruno Mars', 'Drake', 'TINI', 'Ed Sheeran', 'Felipe Amorim', 'Avicii', 'Harry Styles', 'Cigarettes After Sex', 'j-hope', 'zzoilo', 'Alejo', 'Sofía Reyes', 'Tones and I', 'Sebastian Yatra', 'Journey', 'Conan Gray', 'Tate McRae', 'a-ha']\n"
     ]
    }
   ],
   "source": [
    "title = []\n",
    "artist = []\n",
    "\n",
    "num_iter = len(b)\n",
    "\n",
    "artlist = soup.select(\"div > a:nth-child(1)\")\n",
    "musiclist = soup.select('div > a:nth-child(2)')\n",
    "\n",
    "for i in range(num_iter):\n",
    "    title.append(musiclist[i].get_text())\n",
    "    artist.append(artlist[i].get_text())\n",
    "\n",
    "print(title)\n",
    "print(artist)"
   ]
  },
  {
   "cell_type": "code",
   "execution_count": 63,
   "id": "a978dd21",
   "metadata": {},
   "outputs": [],
   "source": [
    "spotify_top200 =pd.DataFrame({\"title\":title,\"artist\":artist,})"
   ]
  },
  {
   "cell_type": "code",
   "execution_count": 64,
   "id": "095b8a04",
   "metadata": {},
   "outputs": [
    {
     "data": {
      "text/html": [
       "<div>\n",
       "<style scoped>\n",
       "    .dataframe tbody tr th:only-of-type {\n",
       "        vertical-align: middle;\n",
       "    }\n",
       "\n",
       "    .dataframe tbody tr th {\n",
       "        vertical-align: top;\n",
       "    }\n",
       "\n",
       "    .dataframe thead th {\n",
       "        text-align: right;\n",
       "    }\n",
       "</style>\n",
       "<table border=\"1\" class=\"dataframe\">\n",
       "  <thead>\n",
       "    <tr style=\"text-align: right;\">\n",
       "      <th></th>\n",
       "      <th>title</th>\n",
       "      <th>artist</th>\n",
       "    </tr>\n",
       "  </thead>\n",
       "  <tbody>\n",
       "    <tr>\n",
       "      <th>0</th>\n",
       "      <td>Quevedo: Bzrp Music Sessions, Vol. 52</td>\n",
       "      <td>Bizarrap</td>\n",
       "    </tr>\n",
       "    <tr>\n",
       "      <th>1</th>\n",
       "      <td>As It Was</td>\n",
       "      <td>Harry Styles</td>\n",
       "    </tr>\n",
       "    <tr>\n",
       "      <th>2</th>\n",
       "      <td>Running Up That Hill (A Deal With God)</td>\n",
       "      <td>Kate Bush</td>\n",
       "    </tr>\n",
       "    <tr>\n",
       "      <th>3</th>\n",
       "      <td>Me Porto Bonito</td>\n",
       "      <td>Bad Bunny</td>\n",
       "    </tr>\n",
       "    <tr>\n",
       "      <th>4</th>\n",
       "      <td>Tití Me Preguntó</td>\n",
       "      <td>Bad Bunny</td>\n",
       "    </tr>\n",
       "    <tr>\n",
       "      <th>...</th>\n",
       "      <td>...</td>\n",
       "      <td>...</td>\n",
       "    </tr>\n",
       "    <tr>\n",
       "      <th>195</th>\n",
       "      <td>Tacones Rojos</td>\n",
       "      <td>Sebastian Yatra</td>\n",
       "    </tr>\n",
       "    <tr>\n",
       "      <th>196</th>\n",
       "      <td>Don't Stop Believin'</td>\n",
       "      <td>Journey</td>\n",
       "    </tr>\n",
       "    <tr>\n",
       "      <th>197</th>\n",
       "      <td>Heather</td>\n",
       "      <td>Conan Gray</td>\n",
       "    </tr>\n",
       "    <tr>\n",
       "      <th>198</th>\n",
       "      <td>she's all i wanna be</td>\n",
       "      <td>Tate McRae</td>\n",
       "    </tr>\n",
       "    <tr>\n",
       "      <th>199</th>\n",
       "      <td>Take on Me</td>\n",
       "      <td>a-ha</td>\n",
       "    </tr>\n",
       "  </tbody>\n",
       "</table>\n",
       "<p>200 rows × 2 columns</p>\n",
       "</div>"
      ],
      "text/plain": [
       "                                      title           artist\n",
       "0     Quevedo: Bzrp Music Sessions, Vol. 52         Bizarrap\n",
       "1                                 As It Was     Harry Styles\n",
       "2    Running Up That Hill (A Deal With God)        Kate Bush\n",
       "3                           Me Porto Bonito        Bad Bunny\n",
       "4                          Tití Me Preguntó        Bad Bunny\n",
       "..                                      ...              ...\n",
       "195                           Tacones Rojos  Sebastian Yatra\n",
       "196                    Don't Stop Believin'          Journey\n",
       "197                                 Heather       Conan Gray\n",
       "198                    she's all i wanna be       Tate McRae\n",
       "199                              Take on Me             a-ha\n",
       "\n",
       "[200 rows x 2 columns]"
      ]
     },
     "execution_count": 64,
     "metadata": {},
     "output_type": "execute_result"
    }
   ],
   "source": [
    "spotify_top200"
   ]
  },
  {
   "cell_type": "code",
   "execution_count": 65,
   "id": "abc654b9",
   "metadata": {},
   "outputs": [],
   "source": [
    "url = \"https://playback.fm/charts/top-100-songs/2021\""
   ]
  },
  {
   "cell_type": "code",
   "execution_count": 66,
   "id": "a6764643",
   "metadata": {},
   "outputs": [
    {
     "data": {
      "text/plain": [
       "200"
      ]
     },
     "execution_count": 66,
     "metadata": {},
     "output_type": "execute_result"
    }
   ],
   "source": [
    "response = requests.get(url)\n",
    "response.status_code"
   ]
  },
  {
   "cell_type": "code",
   "execution_count": 67,
   "id": "b5b27289",
   "metadata": {},
   "outputs": [],
   "source": [
    "soup = BeautifulSoup(response.content, \"html.parser\")"
   ]
  },
  {
   "cell_type": "code",
   "execution_count": 68,
   "id": "b4d25853",
   "metadata": {},
   "outputs": [
    {
     "name": "stdout",
     "output_type": "stream",
     "text": [
      "['\\nDua Lipa & DaBaby\\n', '\\nOlivia Rodrigo\\n', '\\nThe Weeknd & Ariana Grande\\n', '\\nLil Nas X\\n', '\\nThe Weeknd\\n', '\\nOlivia Rodrigo\\n', '\\n24kGoldn featuring iann dior\\n', '\\nJustin Bieber featuring Daniel Caesar & Giveon\\n', '\\nSilk Sonic\\n', '\\nMasked Wolf\\n', '\\nDoja Cat featuring SZA\\n', '\\nThe Kid Laroi & Justin Bieber\\n', '\\nAdele\\n', '\\nBTS\\n', '\\nThe Kid LAROI\\n', '\\nOlivia Rodrigo\\n', '\\nPolo G\\n', '\\nAriana Grande\\n', '\\nCardi B\\n', '\\nPop Smoke\\n', '\\nEd Sheeran\\n', '\\nLil Tjay featuring 6LACK\\n', '\\nGlass Animals\\n', '\\nLil Nas X & Jack Harlow\\n', '\\nChris Brown & Young Thug\\n', '\\nTate McRae\\n', '\\nCJ\\n', '\\nBillie Eilish\\n', '\\nLuke Combs\\n', '\\nAriana Grande Feat. Doja Cat & Megan Thee Stallion\\n', '\\nDrake\\n', '\\nSaweetie featuring Doja Cat\\n', '\\nMachine Gun Kelly & BLACKBEAR\\n', '\\nBad Bunny & Jhay Cortez\\n', '\\nSZA\\n', '\\nJustin Bieber\\n', '\\nDrake featuring Lil Baby\\n', '\\nMariah Carey\\n', '\\nGiveon\\n ', '\\nDrake featuring Future & Young Thug\\n', '\\nWalker Hayes\\n', '\\nPop Smoke featuring Lil Baby & DaBaby\\n', '\\nLil Baby\\n', '\\nPooh Shiesty featuring Lil Durk\\n', '\\nMaroon 5 featuring Megan Thee Stallion\\n', '\\nColdplay & BTS\\n', '\\nJustin Bieber featuring Chance The Rapper\\n', '\\nSpotemGottem featuring Pooh Shiesty\\n', '\\nDoja Cat\\n', '\\nBTS\\n', '\\nOlivia Rodrigo\\n', '\\nTaylor Swift\\n', '\\nGabby Barrett featuring Charlie Puth\\n', '\\nTiesto\\n', '\\nKali Uchis\\n', '\\nYung Bleu featuring Drake\\n', '\\nDoja Cat\\n', '\\nChris Stapleton\\n', '\\nBrenda Lee\\n', '\\nDrake featuring Lil Durk\\n', '\\nMegan Thee Stallion\\n', '\\nDoja Cat & The Weeknd\\n', '\\nGabby Barrett\\n', '\\nLuke Combs\\n', '\\nDua Lipa\\n', '\\nJustin Bieber & Benny Blanco\\n', '\\nAJR\\n', '\\nMooski\\n', '\\nThomas Rhett\\n', '\\nCoi Leray featuring Lil Durk\\n', '\\nMoneybagg Yo\\n', '\\nWizkid featuring Justin Bieber & Tems\\n', '\\nDan & Shay\\n', '\\nDuncan Laurence\\n', '\\nThe Weeknd\\n', '\\nDrake\\n', '\\nMegan Thee Stallion featuring DaBaby\\n', '\\nEric Church\\n', '\\nKeith Urban Duet With P!nk\\n', '\\nDrake featuring 21 Savage & Project Pat\\n', '\\nAva Max\\n', '\\nParmalee & Blanco Brown\\n', '\\nNiko Moon\\n', '\\nBillie Eilish\\n', '\\nRitt Momney\\n', '\\nBad Bunny\\n', '\\nEd Sheeran\\n', '\\nMoneybagg Yo\\n', '\\nRod Wave\\n', '\\nInternet Money & Gunna featuring Don Toliver & NAV\\n', '\\nDrake\\n', '\\nMorgan Wallen\\n', '\\nAdele\\n', '\\nDJ Khaled featuring Lil Baby & Lil Durk\\n', '\\nRyan Hurd With Maren Morris\\n', '\\nMarshmello & Jonas Brothers\\n', '\\nManeskin\\n', '\\nChris Young + Kane Brown\\n', '\\nNelly & Florida Georgia Line\\n', '\\nMegan Thee Stallion\\n']\n"
     ]
    }
   ],
   "source": [
    "Artists=[]\n",
    "num_iter = len(soup.select(\"td:nth-child(2) > a\"))\n",
    "\n",
    "artist = soup.select(\"td:nth-child(2) > a\")\n",
    "for i in range(num_iter):\n",
    "    Artists.append(artist[i].get_text())\n",
    "    \n",
    "print(Artists)"
   ]
  },
  {
   "cell_type": "code",
   "execution_count": 70,
   "id": "6a395314",
   "metadata": {},
   "outputs": [],
   "source": [
    "Artist = []\n",
    "for i in Artists:\n",
    "    i = i.replace('\\n','')\n",
    "    Artist.append(i)"
   ]
  },
  {
   "cell_type": "code",
   "execution_count": 71,
   "id": "08e32687",
   "metadata": {},
   "outputs": [],
   "source": [
    "Song = []\n",
    "num_iter = len(soup.select(\"td.mobile-hide a span.song\"))\n",
    "\n",
    "sng = soup.select(\"td.mobile-hide a span.song\")\n",
    "for i in range(num_iter):\n",
    "    Song.append(sng[i].get_text())"
   ]
  },
  {
   "cell_type": "code",
   "execution_count": 72,
   "id": "adf6a91b",
   "metadata": {},
   "outputs": [
    {
     "data": {
      "text/html": [
       "<div>\n",
       "<style scoped>\n",
       "    .dataframe tbody tr th:only-of-type {\n",
       "        vertical-align: middle;\n",
       "    }\n",
       "\n",
       "    .dataframe tbody tr th {\n",
       "        vertical-align: top;\n",
       "    }\n",
       "\n",
       "    .dataframe thead th {\n",
       "        text-align: right;\n",
       "    }\n",
       "</style>\n",
       "<table border=\"1\" class=\"dataframe\">\n",
       "  <thead>\n",
       "    <tr style=\"text-align: right;\">\n",
       "      <th></th>\n",
       "      <th>Artist</th>\n",
       "      <th>Song</th>\n",
       "    </tr>\n",
       "  </thead>\n",
       "  <tbody>\n",
       "    <tr>\n",
       "      <th>0</th>\n",
       "      <td>Dua Lipa &amp; DaBaby</td>\n",
       "      <td>Levitating</td>\n",
       "    </tr>\n",
       "    <tr>\n",
       "      <th>1</th>\n",
       "      <td>Olivia Rodrigo</td>\n",
       "      <td>Drivers License</td>\n",
       "    </tr>\n",
       "    <tr>\n",
       "      <th>2</th>\n",
       "      <td>The Weeknd &amp; Ariana Grande</td>\n",
       "      <td>Save Your Tears</td>\n",
       "    </tr>\n",
       "    <tr>\n",
       "      <th>3</th>\n",
       "      <td>Lil Nas X</td>\n",
       "      <td>Montero (Call Me by Your Name)</td>\n",
       "    </tr>\n",
       "    <tr>\n",
       "      <th>4</th>\n",
       "      <td>The Weeknd</td>\n",
       "      <td>Blinding Lights</td>\n",
       "    </tr>\n",
       "    <tr>\n",
       "      <th>...</th>\n",
       "      <td>...</td>\n",
       "      <td>...</td>\n",
       "    </tr>\n",
       "    <tr>\n",
       "      <th>95</th>\n",
       "      <td>Marshmello &amp; Jonas Brothers</td>\n",
       "      <td>Leave Before You Love Me</td>\n",
       "    </tr>\n",
       "    <tr>\n",
       "      <th>96</th>\n",
       "      <td>Maneskin</td>\n",
       "      <td>Beggin</td>\n",
       "    </tr>\n",
       "    <tr>\n",
       "      <th>97</th>\n",
       "      <td>Chris Young + Kane Brown</td>\n",
       "      <td>Famous Friends</td>\n",
       "    </tr>\n",
       "    <tr>\n",
       "      <th>98</th>\n",
       "      <td>Nelly &amp; Florida Georgia Line</td>\n",
       "      <td>Lil Bit</td>\n",
       "    </tr>\n",
       "    <tr>\n",
       "      <th>99</th>\n",
       "      <td>Megan Thee Stallion</td>\n",
       "      <td>Thot Shit</td>\n",
       "    </tr>\n",
       "  </tbody>\n",
       "</table>\n",
       "<p>100 rows × 2 columns</p>\n",
       "</div>"
      ],
      "text/plain": [
       "                          Artist                            Song\n",
       "0              Dua Lipa & DaBaby                      Levitating\n",
       "1                 Olivia Rodrigo                 Drivers License\n",
       "2     The Weeknd & Ariana Grande                 Save Your Tears\n",
       "3                      Lil Nas X  Montero (Call Me by Your Name)\n",
       "4                     The Weeknd                 Blinding Lights\n",
       "..                           ...                             ...\n",
       "95   Marshmello & Jonas Brothers        Leave Before You Love Me\n",
       "96                      Maneskin                          Beggin\n",
       "97      Chris Young + Kane Brown                  Famous Friends\n",
       "98  Nelly & Florida Georgia Line                         Lil Bit\n",
       "99           Megan Thee Stallion                       Thot Shit\n",
       "\n",
       "[100 rows x 2 columns]"
      ]
     },
     "execution_count": 72,
     "metadata": {},
     "output_type": "execute_result"
    }
   ],
   "source": [
    "Eurovision = pd.DataFrame({\"Artist\":Artist, \"Song\":Song})\n",
    "Eurovision"
   ]
  },
  {
   "cell_type": "code",
   "execution_count": 73,
   "id": "a39ca2c2",
   "metadata": {},
   "outputs": [
    {
     "name": "stdout",
     "output_type": "stream",
     "text": [
      "On branch master\n",
      "Your branch is up to date with 'origin/master'.\n",
      "\n",
      "Changes to be committed:\n",
      "  (use \"git restore --staged <file>...\" to unstage)\n",
      "\t\u001b[32mnew file:   .ipynb_checkpoints/Untitled1-Copy1-checkpoint.ipynb\u001b[m\n",
      "\t\u001b[32mnew file:   .ipynb_checkpoints/Untitled1-checkpoint.ipynb\u001b[m\n",
      "\t\u001b[32mnew file:   Untitled1-Copy1.ipynb\u001b[m\n",
      "\t\u001b[32mmodified:   Untitled1.ipynb\u001b[m\n",
      "\n",
      "[master cd44bd0] 3 tops: vortex, spotify, playback.fm\n",
      " 4 files changed, 4285 insertions(+), 8 deletions(-)\n",
      " create mode 100644 .ipynb_checkpoints/Untitled1-Copy1-checkpoint.ipynb\n",
      " create mode 100644 .ipynb_checkpoints/Untitled1-checkpoint.ipynb\n",
      " create mode 100644 Untitled1-Copy1.ipynb\n",
      "Enumerating objects: 9, done.\n",
      "Counting objects: 100% (9/9), done.\n",
      "Delta compression using up to 8 threads\n",
      "Compressing objects: 100% (7/7), done.\n",
      "Writing objects: 100% (7/7), 35.50 KiB | 5.92 MiB/s, done.\n",
      "Total 7 (delta 2), reused 0 (delta 0), pack-reused 0\n",
      "remote: Resolving deltas: 100% (2/2), done.\u001b[K\n",
      "To https://github.com/mferreiracad/lab-web-scraping-single-page\n",
      "   9206127..cd44bd0  master -> master\n"
     ]
    }
   ],
   "source": [
    "!git add .\n",
    "!git status\n",
    "!git commit -m '3 tops: vortex, spotify, playback.fm'\n",
    "!git push"
   ]
  },
  {
   "cell_type": "code",
   "execution_count": null,
   "id": "377d4199",
   "metadata": {},
   "outputs": [],
   "source": []
  }
 ],
 "metadata": {
  "kernelspec": {
   "display_name": "Python 3 (ipykernel)",
   "language": "python",
   "name": "python3"
  },
  "language_info": {
   "codemirror_mode": {
    "name": "ipython",
    "version": 3
   },
   "file_extension": ".py",
   "mimetype": "text/x-python",
   "name": "python",
   "nbconvert_exporter": "python",
   "pygments_lexer": "ipython3",
   "version": "3.9.12"
  },
  "toc": {
   "base_numbering": 1,
   "nav_menu": {},
   "number_sections": true,
   "sideBar": true,
   "skip_h1_title": false,
   "title_cell": "Table of Contents",
   "title_sidebar": "Contents",
   "toc_cell": false,
   "toc_position": {},
   "toc_section_display": true,
   "toc_window_display": false
  }
 },
 "nbformat": 4,
 "nbformat_minor": 5
}
